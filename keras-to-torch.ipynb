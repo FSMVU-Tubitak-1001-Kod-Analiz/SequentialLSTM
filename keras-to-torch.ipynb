{
 "cells": [
  {
   "cell_type": "code",
   "execution_count": null,
   "metadata": {},
   "outputs": [],
   "source": [
    "import torch\n",
    "from torch import nn\n",
    "\n",
    "# Example assuming concatenation (adapt based on your data):\n",
    "x1 = torch.randn(batch_size, time_steps, 768)  # First sequence\n",
    "x2 = torch.randn(batch_size, time_steps, 768)  # Second sequence\n",
    "\n",
    "combined_tensor = torch.cat([x1, x2], dim=2)  # Concatenate along feature dimension\n",
    "\n",
    "class LSTMModel(nn.Module):\n",
    "    def __init__(self):\n",
    "        super().__init__()\n",
    "        self.lstm = nn.LSTM(1536, 128, batch_first=True, return_sequences=True)  # Corrected input_size\n",
    "        self.dropout = nn.Dropout(0.2)\n",
    "        self.fc = nn.Linear(128, 1)  # Assuming output dimension is 1 for binary classification\n",
    "\n",
    "    def forward(self, x):\n",
    "        out = self.lstm(x)\n",
    "        out = self.dropout(out)\n",
    "        out = self.fc(out)\n",
    "        return out\n",
    "    \n",
    "#output of forward\n",
    "# Instantiate model, run training/evaluation (use appropriate data loaders and criterion/optimizer)\n"
   ]
  }
 ],
 "metadata": {
  "language_info": {
   "name": "python"
  }
 },
 "nbformat": 4,
 "nbformat_minor": 2
}
