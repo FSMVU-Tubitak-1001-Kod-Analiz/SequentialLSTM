{
 "cells": [
  {
   "cell_type": "markdown",
   "metadata": {},
   "source": [
    "## imports"
   ]
  },
  {
   "cell_type": "code",
   "execution_count": 7,
   "metadata": {
    "ExecuteTime": {
     "end_time": "2024-02-19T15:49:07.710524700Z",
     "start_time": "2024-02-19T15:49:07.639591400Z"
    }
   },
   "outputs": [],
   "source": [
    "\n",
    "import torch\n",
    "import torch.nn as nn\n",
    "import torch.optim as optim\n",
    "import pandas as pd\n",
    "from sklearn.model_selection import train_test_split\n",
    "from torch.utils.data import TensorDataset, DataLoader\n"
   ]
  },
  {
   "cell_type": "markdown",
   "metadata": {},
   "source": [
    "## Parameters"
   ]
  },
  {
   "cell_type": "code",
   "execution_count": 8,
   "metadata": {
    "ExecuteTime": {
     "end_time": "2024-02-19T15:49:09.865417900Z",
     "start_time": "2024-02-19T15:49:09.832024500Z"
    }
   },
   "outputs": [],
   "source": [
    "# Define hyperparameters\n",
    "input_size = 1\n",
    "hidden_size = 128\n",
    "num_layers = 1\n",
    "learning_rate = 0.001\n",
    "num_epochs = 40\n",
    "batch_size = 10"
   ]
  },
  {
   "cell_type": "markdown",
   "metadata": {},
   "source": [
    "## Data"
   ]
  },
  {
   "cell_type": "code",
   "execution_count": 9,
   "metadata": {
    "ExecuteTime": {
     "end_time": "2024-02-19T15:49:11.286048600Z",
     "start_time": "2024-02-19T15:49:11.122993200Z"
    }
   },
   "outputs": [
    {
     "data": {
      "text/plain": "     num1  num2  label\n0      81    67      0\n1      67    25      1\n2      93    78      0\n3      58    54      0\n4      23    83      1\n..    ...   ...    ...\n395    15     7      0\n396    74    68      0\n397    58    54      0\n398    52    37      0\n399    47    14      1\n\n[400 rows x 3 columns]",
      "text/html": "<div>\n<style scoped>\n    .dataframe tbody tr th:only-of-type {\n        vertical-align: middle;\n    }\n\n    .dataframe tbody tr th {\n        vertical-align: top;\n    }\n\n    .dataframe thead th {\n        text-align: right;\n    }\n</style>\n<table border=\"1\" class=\"dataframe\">\n  <thead>\n    <tr style=\"text-align: right;\">\n      <th></th>\n      <th>num1</th>\n      <th>num2</th>\n      <th>label</th>\n    </tr>\n  </thead>\n  <tbody>\n    <tr>\n      <th>0</th>\n      <td>81</td>\n      <td>67</td>\n      <td>0</td>\n    </tr>\n    <tr>\n      <th>1</th>\n      <td>67</td>\n      <td>25</td>\n      <td>1</td>\n    </tr>\n    <tr>\n      <th>2</th>\n      <td>93</td>\n      <td>78</td>\n      <td>0</td>\n    </tr>\n    <tr>\n      <th>3</th>\n      <td>58</td>\n      <td>54</td>\n      <td>0</td>\n    </tr>\n    <tr>\n      <th>4</th>\n      <td>23</td>\n      <td>83</td>\n      <td>1</td>\n    </tr>\n    <tr>\n      <th>...</th>\n      <td>...</td>\n      <td>...</td>\n      <td>...</td>\n    </tr>\n    <tr>\n      <th>395</th>\n      <td>15</td>\n      <td>7</td>\n      <td>0</td>\n    </tr>\n    <tr>\n      <th>396</th>\n      <td>74</td>\n      <td>68</td>\n      <td>0</td>\n    </tr>\n    <tr>\n      <th>397</th>\n      <td>58</td>\n      <td>54</td>\n      <td>0</td>\n    </tr>\n    <tr>\n      <th>398</th>\n      <td>52</td>\n      <td>37</td>\n      <td>0</td>\n    </tr>\n    <tr>\n      <th>399</th>\n      <td>47</td>\n      <td>14</td>\n      <td>1</td>\n    </tr>\n  </tbody>\n</table>\n<p>400 rows × 3 columns</p>\n</div>"
     },
     "execution_count": 9,
     "metadata": {},
     "output_type": "execute_result"
    }
   ],
   "source": [
    "\n",
    "# Load the CSV data\n",
    "data = pd.read_csv('data.csv')\n",
    "\n",
    "# Define input and output\n",
    "X1 = data['num1'].values\n",
    "X2 = data['num2'].values\n",
    "y = data['label'].values\n",
    "data"
   ]
  },
  {
   "cell_type": "markdown",
   "metadata": {},
   "source": [
    "## Twin Rnn Model"
   ]
  },
  {
   "cell_type": "code",
   "execution_count": 14,
   "metadata": {
    "ExecuteTime": {
     "end_time": "2024-02-19T16:32:33.790611500Z",
     "start_time": "2024-02-19T16:32:33.755516200Z"
    }
   },
   "outputs": [],
   "source": [
    "# Define a custom LSTM model\n",
    "class TwinLSTM(nn.Module):\n",
    "    def __init__(self, input_size, hidden_size, num_layers=1):\n",
    "        super(TwinLSTM, self).__init__()\n",
    "        self.lstm1 = nn.LSTM(input_size, hidden_size, num_layers)\n",
    "        self.lstm2 = nn.LSTM(input_size, hidden_size, num_layers)\n",
    "        self.fc = nn.Linear(hidden_size*2, 1)\n",
    "\n",
    "    def forward(self, x1, x2):\n",
    "        _, (hidden1, _) = self.lstm1(x1.unsqueeze(0))\n",
    "        _, (hidden2, _) = self.lstm2(x2.unsqueeze(0))\n",
    "        combined_hidden = torch.cat((hidden1, hidden2), dim=1)\n",
    "        output = torch.sigmoid(self.fc(combined_hidden))\n",
    "        ## \n",
    "        return output\n",
    "\n"
   ]
  },
  {
   "cell_type": "code",
   "execution_count": 13,
   "metadata": {
    "ExecuteTime": {
     "end_time": "2024-02-19T15:52:31.610643300Z",
     "start_time": "2024-02-19T15:52:31.566365700Z"
    }
   },
   "outputs": [],
   "source": [
    "X1_train, X1_test, X2_train, X2_test, y_train, y_test = train_test_split(X1, X2, y, test_size=0.2, random_state=42)\n",
    "\n",
    "X1_train = torch.tensor(X1_train, dtype=torch.float32)\n",
    "X2_train = torch.tensor(X2_train, dtype=torch.float32)\n",
    "y_train = torch.tensor(y_train, dtype=torch.float32) \n",
    "X1_test = torch.tensor(X1_test, dtype=torch.float32)\n",
    "X2_test = torch.tensor(X2_test, dtype=torch.float32)\n",
    "y_test = torch.tensor(y_test, dtype=torch.float32) \n",
    "\n",
    "\n",
    "# Create a TensorDataset\n",
    "train_dataset = TensorDataset(X1_train, X2_train, y_train)\n",
    "\n",
    "# Define hyperparameters\n",
    "batch_size = 20\n",
    "num_epochs = 100\n",
    "learning_rate = 0.001\n",
    "\n",
    "# Create a DataLoader\n",
    "train_dataloader = DataLoader(train_dataset, batch_size=batch_size, shuffle=True)\n",
    "\n",
    "\n",
    "model = TwinLSTM(input_size, hidden_size, num_layers)\n",
    "criterion = nn.BCELoss()\n",
    "optimizer = optim.Adam(model.parameters(), lr=learning_rate)\n",
    "train_dataloader = DataLoader(train_dataset, batch_size=batch_size, shuffle=True)\n"
   ]
  },
  {
   "cell_type": "markdown",
   "metadata": {},
   "source": [
    "## Training\n"
   ]
  },
  {
   "cell_type": "code",
   "execution_count": 12,
   "metadata": {
    "ExecuteTime": {
     "end_time": "2024-02-19T15:49:30.243961200Z",
     "start_time": "2024-02-19T15:49:27.749735400Z"
    }
   },
   "outputs": [
    {
     "ename": "IndexError",
     "evalue": "Dimension out of range (expected to be in range of [-1, 0], but got 1)",
     "output_type": "error",
     "traceback": [
      "\u001B[1;31m---------------------------------------------------------------------------\u001B[0m",
      "\u001B[1;31mIndexError\u001B[0m                                Traceback (most recent call last)",
      "Cell \u001B[1;32mIn[12], line 6\u001B[0m\n\u001B[0;32m      4\u001B[0m optimizer\u001B[38;5;241m.\u001B[39mzero_grad()\n\u001B[0;32m      5\u001B[0m outputs \u001B[38;5;241m=\u001B[39m model(x1, x2)\n\u001B[1;32m----> 6\u001B[0m loss \u001B[38;5;241m=\u001B[39m criterion(outputs\u001B[38;5;241m.\u001B[39munsqueeze(\u001B[38;5;241m1\u001B[39m), labels\u001B[38;5;241m.\u001B[39msqueeze(\u001B[38;5;241m1\u001B[39m)) \n\u001B[0;32m      7\u001B[0m loss\u001B[38;5;241m.\u001B[39mbackward()\n\u001B[0;32m      8\u001B[0m optimizer\u001B[38;5;241m.\u001B[39mstep()\n",
      "\u001B[1;31mIndexError\u001B[0m: Dimension out of range (expected to be in range of [-1, 0], but got 1)"
     ]
    }
   ],
   "source": [
    "# Training loop\n",
    "for epoch in range(num_epochs):\n",
    "    for x1, x2, labels in train_dataloader:\n",
    "        optimizer.zero_grad()\n",
    "        outputs = model(x1, x2)\n",
    "        loss = criterion(outputs.unsqueeze(1), labels.squeeze(1)) \n",
    "        loss.backward()\n",
    "        optimizer.step()\n",
    "    print(f\"Epoch [{epoch+1}/{num_epochs}], Loss: {loss.item()}\")\n",
    "\n",
    "    with torch.no_grad():\n",
    "        predicted = (outputs > 0.5).float()\n",
    "        accuracy = (predicted == labels).float().mean()\n",
    "        print(f\"Epoch [{epoch+1}/{num_epochs}], Accuracy: {accuracy.item()}\")\n"
   ]
  },
  {
   "cell_type": "markdown",
   "metadata": {},
   "source": [
    "## CheckSize"
   ]
  },
  {
   "cell_type": "code",
   "execution_count": null,
   "metadata": {
    "is_executing": true
   },
   "outputs": [],
   "source": [
    "print(outputs.size())\n",
    "print(outputs.shape)\n",
    "\n",
    "print(x1.size())\n",
    "print(x2.size())\n",
    "print(x1.shape)\n",
    "print(x2.shape)\n",
    "\n",
    "print(labels.shape)\n"
   ]
  },
  {
   "cell_type": "markdown",
   "metadata": {},
   "source": [
    "## Evaluate"
   ]
  },
  {
   "cell_type": "code",
   "execution_count": null,
   "metadata": {
    "is_executing": true
   },
   "outputs": [],
   "source": [
    "\n",
    "# Testing the model\n",
    "with torch.no_grad():\n",
    "    outputs = model(X1_test.view(-1, 1, 1), X2_test.view(-1, 1, 1))\n",
    "    predicted = (outputs.view(-1) > 0.5).float()\n",
    "    accuracy = (predicted == y_test).float().mean()\n",
    "    print(f'Accuracy: {accuracy.item()*100:.2f}%')"
   ]
  }
 ],
 "metadata": {
  "kernelspec": {
   "display_name": "Python 3",
   "language": "python",
   "name": "python3"
  },
  "language_info": {
   "codemirror_mode": {
    "name": "ipython",
    "version": 3
   },
   "file_extension": ".py",
   "mimetype": "text/x-python",
   "name": "python",
   "nbconvert_exporter": "python",
   "pygments_lexer": "ipython3",
   "version": "3.11.4"
  }
 },
 "nbformat": 4,
 "nbformat_minor": 2
}
