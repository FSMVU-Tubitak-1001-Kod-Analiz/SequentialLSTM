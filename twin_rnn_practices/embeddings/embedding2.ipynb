{
 "cells": [
  {
   "cell_type": "code",
   "execution_count": 1,
   "id": "initial_id",
   "metadata": {
    "collapsed": true,
    "ExecuteTime": {
     "end_time": "2024-03-12T09:42:25.948864300Z",
     "start_time": "2024-03-12T09:42:22.081723900Z"
    }
   },
   "outputs": [
    {
     "data": {
      "text/plain": "0     0\n1     0\n2     0\n3     0\n4     0\n     ..\n88    2\n89    3\n90    2\n91    3\n92    1\nName: smellKey_encoded, Length: 93, dtype: int64"
     },
     "execution_count": 1,
     "metadata": {},
     "output_type": "execute_result"
    }
   ],
   "source": [
    "import pandas as pd\n",
    "import torch\n",
    "\n",
    "# Load the contents of function_smell_embeddings.pt\n",
    "old_embed = torch.load('./bert_old2.pt')\n",
    "fix_embed = torch.load('./bert_fixed2.pt')\n",
    "smell_key = pd.read_csv(\"Temp_smellKey-data_encoded.csv\")[\"smellKey_encoded\"]\n",
    "smell_key"
   ]
  },
  {
   "cell_type": "markdown",
   "source": [
    "## Import"
   ],
   "metadata": {
    "collapsed": false
   },
   "id": "51bec43aa61ae0ba"
  },
  {
   "cell_type": "code",
   "execution_count": 2,
   "outputs": [],
   "source": [],
   "metadata": {
    "collapsed": false,
    "ExecuteTime": {
     "end_time": "2024-03-12T09:51:07.425060900Z",
     "start_time": "2024-03-12T09:51:07.133063200Z"
    }
   },
   "id": "6516dc3cdf2f4e4e"
  },
  {
   "cell_type": "code",
   "execution_count": 3,
   "outputs": [],
   "source": [
    "import pandas as pd\n",
    "import numpy as np\n",
    "import torch\n",
    "import torch.nn as nn\n",
    "import seaborn as sns\n",
    "from torch.utils.data import DataLoader, TensorDataset\n",
    "from sklearn.metrics import precision_score, recall_score, f1_score, confusion_matrix\n",
    "import matplotlib.pyplot as plt\n",
    "from sklearn.model_selection import train_test_split\n",
    "import pickle"
   ],
   "metadata": {
    "collapsed": false,
    "ExecuteTime": {
     "end_time": "2024-03-12T09:51:15.926142900Z",
     "start_time": "2024-03-12T09:51:15.901056400Z"
    }
   },
   "id": "96ca5c54e3e751f2"
  },
  {
   "cell_type": "markdown",
   "source": [
    "## Data"
   ],
   "metadata": {
    "collapsed": false
   },
   "id": "5f1d4689abc427a3"
  },
  {
   "cell_type": "code",
   "execution_count": null,
   "outputs": [],
   "source": [
    "# Combine the embeddings and encoded messages into a DataFrame\n",
    "data = pd.DataFrame({\n",
    "    'old_code': old_embed.tolist(),\n",
    "    'fixed_code': fix_embed.tolist(),\n",
    "    'smellKey_encoded': smell_key\n",
    "})\n",
    "\n",
    "# Split the data into features (embeddings) and labels (messages)\n",
    "#numpy.darray\n",
    "X = np.array(data['old_code'].tolist())\n",
    "#X = np.column_stack((data['old_code'].tolist(), data['fixed_code'].tolist()))\n",
    "\n",
    "print(X.shape)\n",
    "\n",
    "y = np.array(data['smellKey_encoded'])\n",
    "\n",
    "# Split the data into training and testing sets\n",
    "X_train, X_test, y_train, y_test = train_test_split(X, y, test_size=0.2, random_state=42)\n",
    "# Convert data to PyTorch tensors\n",
    "X_train_tensor = torch.tensor(X_train).unsqueeze(1)\n",
    "y_train_tensor = torch.tensor(y_train)\n",
    "X_test_tensor = torch.tensor(X_test).unsqueeze(1)\n",
    "y_test_tensor = torch.tensor(y_test)\n",
    "len(np.unique(y))"
   ],
   "metadata": {
    "collapsed": false
   },
   "id": "74950a107ecb666b"
  },
  {
   "cell_type": "code",
   "execution_count": null,
   "outputs": [],
   "source": [
    "##"
   ],
   "metadata": {
    "collapsed": false
   },
   "id": "769b8b43640f3769"
  },
  {
   "cell_type": "code",
   "execution_count": null,
   "outputs": [],
   "source": [],
   "metadata": {
    "collapsed": false
   },
   "id": "4c1556f0924e463d"
  }
 ],
 "metadata": {
  "kernelspec": {
   "display_name": "Python 3",
   "language": "python",
   "name": "python3"
  },
  "language_info": {
   "codemirror_mode": {
    "name": "ipython",
    "version": 2
   },
   "file_extension": ".py",
   "mimetype": "text/x-python",
   "name": "python",
   "nbconvert_exporter": "python",
   "pygments_lexer": "ipython2",
   "version": "2.7.6"
  }
 },
 "nbformat": 4,
 "nbformat_minor": 5
}
