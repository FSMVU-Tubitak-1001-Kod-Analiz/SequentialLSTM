{
 "cells": [
  {
   "cell_type": "code",
   "execution_count": 11,
   "id": "initial_id",
   "metadata": {
    "collapsed": true,
    "ExecuteTime": {
     "end_time": "2024-03-11T11:27:39.821626Z",
     "start_time": "2024-03-11T11:27:39.804576900Z"
    }
   },
   "outputs": [],
   "source": [
    "import pandas as pd\n",
    "import numpy as np\n",
    "from sentence_transformers import SentenceTransformer, util\n",
    "import torch"
   ]
  },
  {
   "cell_type": "code",
   "execution_count": 2,
   "outputs": [],
   "source": [],
   "metadata": {
    "collapsed": false,
    "ExecuteTime": {
     "end_time": "2024-03-11T11:20:39.694334400Z",
     "start_time": "2024-03-11T11:20:39.686319600Z"
    }
   },
   "id": "a5c336b94e89cca8"
  },
  {
   "cell_type": "code",
   "execution_count": 5,
   "outputs": [
    {
     "data": {
      "text/plain": "                                              old_code  \\\n0    {\"function\": \"public boolean doSave(Carrello b...   \n1    {\"function\": \"public Collection<Carrello> doRe...   \n2    {\"function\": \"public Collection<Carrello> getO...   \n3    {\"function\": \"public Collection<Carrello> doRe...   \n4    {\"function\": \"public ArrayList<ScarpaOrdine> g...   \n..                                                 ...   \n135  {\"function\": \"public Expression createExpressi...   \n136  {\"function\": \"public ConfigurationPropertiesVa...   \n137  {\"function\": \"public void remove(CamelContext ...   \n138  {\"function\": \"protected Map<String, Object> pr...   \n139  {\"function\": \"private JavaClass generateParser...   \n\n                                            fixed_code     SmellRule  \n0    {\"function\": \"public boolean doSave(Carrello b...   java:S106\\n  \n1    {\"function\": \"public Collection<Carrello> doRe...  java:S1168\\n  \n2    {\"function\": \"public Collection<Carrello> getO...  java:S2095\\n  \n3    {\"function\": \"public Collection<Carrello> doRe...  java:S2095\\n  \n4    {\"function\": \"public List<ScarpaOrdine> getSca...  java:S1319\\n  \n..                                                 ...           ...  \n135  {\"function\": \"public Expression createExpressi...  java:S3740\\n  \n136  {\"function\": \"public ConfigurationPropertiesVa...  java:S3776\\n  \n137  {\"function\": \"public void remove(CamelContext ...  java:S1181\\n  \n138  {\"function\": \"protected Map<String, Object> pr...  java:S2293\\n  \n139  {\"function\": \"private JavaClass generateParser...  java:S1192\\n  \n\n[140 rows x 3 columns]",
      "text/html": "<div>\n<style scoped>\n    .dataframe tbody tr th:only-of-type {\n        vertical-align: middle;\n    }\n\n    .dataframe tbody tr th {\n        vertical-align: top;\n    }\n\n    .dataframe thead th {\n        text-align: right;\n    }\n</style>\n<table border=\"1\" class=\"dataframe\">\n  <thead>\n    <tr style=\"text-align: right;\">\n      <th></th>\n      <th>old_code</th>\n      <th>fixed_code</th>\n      <th>SmellRule</th>\n    </tr>\n  </thead>\n  <tbody>\n    <tr>\n      <th>0</th>\n      <td>{\"function\": \"public boolean doSave(Carrello b...</td>\n      <td>{\"function\": \"public boolean doSave(Carrello b...</td>\n      <td>java:S106\\n</td>\n    </tr>\n    <tr>\n      <th>1</th>\n      <td>{\"function\": \"public Collection&lt;Carrello&gt; doRe...</td>\n      <td>{\"function\": \"public Collection&lt;Carrello&gt; doRe...</td>\n      <td>java:S1168\\n</td>\n    </tr>\n    <tr>\n      <th>2</th>\n      <td>{\"function\": \"public Collection&lt;Carrello&gt; getO...</td>\n      <td>{\"function\": \"public Collection&lt;Carrello&gt; getO...</td>\n      <td>java:S2095\\n</td>\n    </tr>\n    <tr>\n      <th>3</th>\n      <td>{\"function\": \"public Collection&lt;Carrello&gt; doRe...</td>\n      <td>{\"function\": \"public Collection&lt;Carrello&gt; doRe...</td>\n      <td>java:S2095\\n</td>\n    </tr>\n    <tr>\n      <th>4</th>\n      <td>{\"function\": \"public ArrayList&lt;ScarpaOrdine&gt; g...</td>\n      <td>{\"function\": \"public List&lt;ScarpaOrdine&gt; getSca...</td>\n      <td>java:S1319\\n</td>\n    </tr>\n    <tr>\n      <th>...</th>\n      <td>...</td>\n      <td>...</td>\n      <td>...</td>\n    </tr>\n    <tr>\n      <th>135</th>\n      <td>{\"function\": \"public Expression createExpressi...</td>\n      <td>{\"function\": \"public Expression createExpressi...</td>\n      <td>java:S3740\\n</td>\n    </tr>\n    <tr>\n      <th>136</th>\n      <td>{\"function\": \"public ConfigurationPropertiesVa...</td>\n      <td>{\"function\": \"public ConfigurationPropertiesVa...</td>\n      <td>java:S3776\\n</td>\n    </tr>\n    <tr>\n      <th>137</th>\n      <td>{\"function\": \"public void remove(CamelContext ...</td>\n      <td>{\"function\": \"public void remove(CamelContext ...</td>\n      <td>java:S1181\\n</td>\n    </tr>\n    <tr>\n      <th>138</th>\n      <td>{\"function\": \"protected Map&lt;String, Object&gt; pr...</td>\n      <td>{\"function\": \"protected Map&lt;String, Object&gt; pr...</td>\n      <td>java:S2293\\n</td>\n    </tr>\n    <tr>\n      <th>139</th>\n      <td>{\"function\": \"private JavaClass generateParser...</td>\n      <td>{\"function\": \"private JavaClass generateParser...</td>\n      <td>java:S1192\\n</td>\n    </tr>\n  </tbody>\n</table>\n<p>140 rows × 3 columns</p>\n</div>"
     },
     "execution_count": 5,
     "metadata": {},
     "output_type": "execute_result"
    }
   ],
   "source": [
    "df = pd.read_csv(\"./history_output.csv\")\n",
    "df"
   ],
   "metadata": {
    "collapsed": false,
    "ExecuteTime": {
     "end_time": "2024-03-11T11:21:00.866741900Z",
     "start_time": "2024-03-11T11:21:00.803810900Z"
    }
   },
   "id": "d67dfec54f455b4b"
  },
  {
   "cell_type": "code",
   "execution_count": 19,
   "outputs": [],
   "source": [
    "import csv\n",
    "import pandas as pd\n",
    "from sklearn.preprocessing import LabelEncoder\n",
    "import pickle\n",
    "# Extract the \"smellKey\" column values\n",
    "smellKey = df['SmellRule'].values\n",
    "\n",
    "# Perform label encoding\n",
    "encoder = LabelEncoder()\n",
    "encoded_messages = encoder.fit_transform(smellKey)\n",
    "\n",
    "# Update the DataFrame with the encoded values\n",
    "df_encoded = df.copy()\n",
    "df_encoded['smellKey_encoded'] = encoded_messages\n",
    "\n",
    "# Save the encoded content to a new CSV file\n",
    "output_file = 'Temp_smellKey-data_encoded.csv'\n",
    "df_encoded.to_csv(output_file, index=False)\n",
    "\n",
    "# Save the encoding vocabulary\n",
    "vocabulary_file = 'smellKey_encoding_vocabulary.pkl'\n",
    "with open(vocabulary_file, 'wb') as f:\n",
    "    pickle.dump(encoder.classes_, f)\n"
   ],
   "metadata": {
    "collapsed": false,
    "ExecuteTime": {
     "end_time": "2024-03-11T11:40:42.320798400Z",
     "start_time": "2024-03-11T11:40:42.288091300Z"
    }
   },
   "id": "99793b2b7549a38a"
  },
  {
   "cell_type": "markdown",
   "source": [],
   "metadata": {
    "collapsed": false
   },
   "id": "2c1d7ce4a860f061"
  },
  {
   "cell_type": "code",
   "execution_count": 20,
   "outputs": [],
   "source": [
    "import pickle\n",
    "\n",
    "# Extract the 'message_encoded' column\n",
    "message_encoded = df['SmellRule']\n",
    "\n",
    "# Save the message_encoded values to a pickle file\n",
    "with open('SmellRuleEncoded.pkl', 'wb') as file:\n",
    "    pickle.dump(message_encoded, file)\n",
    "with open('SmellRuleEncoded.pkl', 'wb') as file:\n",
    "    pickle.dump(message_encoded, file)"
   ],
   "metadata": {
    "collapsed": false,
    "ExecuteTime": {
     "end_time": "2024-03-11T11:40:55.937921300Z",
     "start_time": "2024-03-11T11:40:55.920352100Z"
    }
   },
   "id": "c9eb6f24ed788074"
  },
  {
   "cell_type": "code",
   "execution_count": 12,
   "outputs": [
    {
     "data": {
      "text/plain": "modules.json:   0%|          | 0.00/229 [00:00<?, ?B/s]",
      "application/vnd.jupyter.widget-view+json": {
       "version_major": 2,
       "version_minor": 0,
       "model_id": "6d041af1120c4c299054046cf66e937b"
      }
     },
     "metadata": {},
     "output_type": "display_data"
    },
    {
     "name": "stderr",
     "output_type": "stream",
     "text": [
      "C:\\Users\\huday\\AppData\\Roaming\\Python\\Python311\\site-packages\\huggingface_hub\\file_download.py:149: UserWarning: `huggingface_hub` cache-system uses symlinks by default to efficiently store duplicated files but your machine does not support them in C:\\Users\\huday\\.cache\\huggingface\\hub\\models--sentence-transformers--bert-base-nli-mean-tokens. Caching files will still work but in a degraded version that might require more space on your disk. This warning can be disabled by setting the `HF_HUB_DISABLE_SYMLINKS_WARNING` environment variable. For more details, see https://huggingface.co/docs/huggingface_hub/how-to-cache#limitations.\n",
      "To support symlinks on Windows, you either need to activate Developer Mode or to run Python as an administrator. In order to see activate developer mode, see this article: https://docs.microsoft.com/en-us/windows/apps/get-started/enable-your-device-for-development\n",
      "  warnings.warn(message)\n"
     ]
    },
    {
     "data": {
      "text/plain": "config_sentence_transformers.json:   0%|          | 0.00/122 [00:00<?, ?B/s]",
      "application/vnd.jupyter.widget-view+json": {
       "version_major": 2,
       "version_minor": 0,
       "model_id": "87c3bb4629eb4f5493d739a03e563200"
      }
     },
     "metadata": {},
     "output_type": "display_data"
    },
    {
     "data": {
      "text/plain": "README.md:   0%|          | 0.00/3.99k [00:00<?, ?B/s]",
      "application/vnd.jupyter.widget-view+json": {
       "version_major": 2,
       "version_minor": 0,
       "model_id": "a916837817754e8dbfe8892f3ae06a19"
      }
     },
     "metadata": {},
     "output_type": "display_data"
    },
    {
     "data": {
      "text/plain": "sentence_bert_config.json:   0%|          | 0.00/53.0 [00:00<?, ?B/s]",
      "application/vnd.jupyter.widget-view+json": {
       "version_major": 2,
       "version_minor": 0,
       "model_id": "45a97b75570f4f3882df77c766f0864e"
      }
     },
     "metadata": {},
     "output_type": "display_data"
    },
    {
     "data": {
      "text/plain": "config.json:   0%|          | 0.00/625 [00:00<?, ?B/s]",
      "application/vnd.jupyter.widget-view+json": {
       "version_major": 2,
       "version_minor": 0,
       "model_id": "ffc94c925c1240d08504181ae147026c"
      }
     },
     "metadata": {},
     "output_type": "display_data"
    },
    {
     "data": {
      "text/plain": "pytorch_model.bin:   0%|          | 0.00/438M [00:00<?, ?B/s]",
      "application/vnd.jupyter.widget-view+json": {
       "version_major": 2,
       "version_minor": 0,
       "model_id": "4f3aed95daa74449bb228a2e252ccbe7"
      }
     },
     "metadata": {},
     "output_type": "display_data"
    },
    {
     "data": {
      "text/plain": "tokenizer_config.json:   0%|          | 0.00/399 [00:00<?, ?B/s]",
      "application/vnd.jupyter.widget-view+json": {
       "version_major": 2,
       "version_minor": 0,
       "model_id": "fd30b4f10d8a49dfab2023ada76fa6c7"
      }
     },
     "metadata": {},
     "output_type": "display_data"
    },
    {
     "data": {
      "text/plain": "vocab.txt:   0%|          | 0.00/232k [00:00<?, ?B/s]",
      "application/vnd.jupyter.widget-view+json": {
       "version_major": 2,
       "version_minor": 0,
       "model_id": "9f799ffac6334e168534c301980fdfb1"
      }
     },
     "metadata": {},
     "output_type": "display_data"
    },
    {
     "data": {
      "text/plain": "tokenizer.json:   0%|          | 0.00/466k [00:00<?, ?B/s]",
      "application/vnd.jupyter.widget-view+json": {
       "version_major": 2,
       "version_minor": 0,
       "model_id": "491942559e7e4af09f8d21963f5dcac3"
      }
     },
     "metadata": {},
     "output_type": "display_data"
    },
    {
     "data": {
      "text/plain": "added_tokens.json:   0%|          | 0.00/2.00 [00:00<?, ?B/s]",
      "application/vnd.jupyter.widget-view+json": {
       "version_major": 2,
       "version_minor": 0,
       "model_id": "b54aa89ea4e24269aee5da1b01b2dc29"
      }
     },
     "metadata": {},
     "output_type": "display_data"
    },
    {
     "data": {
      "text/plain": "special_tokens_map.json:   0%|          | 0.00/112 [00:00<?, ?B/s]",
      "application/vnd.jupyter.widget-view+json": {
       "version_major": 2,
       "version_minor": 0,
       "model_id": "9e2ebb07688a4a35bd7225f5c1a9eb54"
      }
     },
     "metadata": {},
     "output_type": "display_data"
    },
    {
     "data": {
      "text/plain": "1_Pooling/config.json:   0%|          | 0.00/190 [00:00<?, ?B/s]",
      "application/vnd.jupyter.widget-view+json": {
       "version_major": 2,
       "version_minor": 0,
       "model_id": "eeb53480ee1a4b278d83cf53a17bea5e"
      }
     },
     "metadata": {},
     "output_type": "display_data"
    }
   ],
   "source": [
    "old_code = df['old_code'].tolist()\n",
    "preprocessed_old_code = [fn.strip() for fn in old_code]\n",
    "\n",
    "fixed_code = df['fixed_code'].tolist()\n",
    "preprocessed_fixed_code = [fn.strip() for fn in fixed_code]\n",
    "\n",
    "model = SentenceTransformer('bert-base-nli-mean-tokens')\n",
    "\n",
    "old_embeddings = model.encode(preprocessed_old_code, convert_to_tensor=True)\n",
    "save_path2 = 'bert_old.pt'\n",
    "torch.save(old_embeddings, save_path2)\n",
    "fixed_embeddings = model.encode(preprocessed_fixed_code, convert_to_tensor=True)\n",
    "\n",
    "save_path = 'bert_fixed.pt'\n",
    "torch.save(fixed_embeddings, save_path)\n"
   ],
   "metadata": {
    "collapsed": false,
    "ExecuteTime": {
     "end_time": "2024-03-11T11:30:33.403725400Z",
     "start_time": "2024-03-11T11:29:00.918317600Z"
    }
   },
   "id": "28a76cac62587681"
  },
  {
   "cell_type": "code",
   "execution_count": 13,
   "outputs": [
    {
     "data": {
      "text/plain": "tensor([[-0.2437,  1.0850,  0.1621,  ..., -0.5725,  0.1924,  0.4163],\n        [-0.1792,  0.9060,  0.2106,  ..., -0.6050,  0.2090,  0.4597],\n        [-0.2773,  0.7007,  0.3035,  ..., -0.5506,  0.0731,  0.7107],\n        ...,\n        [-0.3570,  0.5446,  0.8133,  ..., -0.1516, -0.3166,  0.4352],\n        [-0.2310,  0.5597,  0.7207,  ..., -0.1275, -0.3423,  0.5894],\n        [-0.0567,  0.3503,  0.8846,  ..., -0.1181, -0.4715, -0.1532]])"
     },
     "execution_count": 13,
     "metadata": {},
     "output_type": "execute_result"
    }
   ],
   "source": [
    "loaded_fixembed = torch.load(save_path)\n",
    "loaded_fixembed"
   ],
   "metadata": {
    "collapsed": false,
    "ExecuteTime": {
     "end_time": "2024-03-11T11:32:44.939683700Z",
     "start_time": "2024-03-11T11:32:44.912615800Z"
    }
   },
   "id": "5da9fac1ecfc491"
  },
  {
   "cell_type": "code",
   "execution_count": 15,
   "outputs": [
    {
     "data": {
      "text/plain": "tensor([[-0.2437,  1.0850,  0.1621,  ..., -0.5725,  0.1924,  0.4163],\n        [-0.2850,  0.9917,  0.1943,  ..., -0.6845,  0.1077,  0.6814],\n        [-0.2449,  0.8321,  0.2275,  ..., -0.5063,  0.0952,  0.4395],\n        ...,\n        [-0.3570,  0.5446,  0.8133,  ..., -0.1516, -0.3166,  0.4352],\n        [-0.2310,  0.5597,  0.7207,  ..., -0.1275, -0.3423,  0.5894],\n        [-0.0567,  0.3503,  0.8846,  ..., -0.1181, -0.4715, -0.1532]])"
     },
     "execution_count": 15,
     "metadata": {},
     "output_type": "execute_result"
    }
   ],
   "source": [
    "save_path2 = 'bert_old.pt'\n",
    "loaded_oldembed= torch.load(save_path2)\n",
    "loaded_oldembed"
   ],
   "metadata": {
    "collapsed": false,
    "ExecuteTime": {
     "end_time": "2024-03-11T11:33:19.891884300Z",
     "start_time": "2024-03-11T11:33:19.875639700Z"
    }
   },
   "id": "c9e97d607eace145"
  },
  {
   "cell_type": "code",
   "execution_count": 16,
   "outputs": [
    {
     "name": "stdout",
     "output_type": "stream",
     "text": [
      "Number of old embeddings: 140\n",
      "Number of fix embeddings: 140\n"
     ]
    }
   ],
   "source": [
    "num_embeddings = loaded_oldembed.shape[0]\n",
    "print(f\"Number of old embeddings: {num_embeddings}\")\n",
    "num_embeddings = loaded_fixembed.shape[0]\n",
    "print(f\"Number of fix embeddings: {num_embeddings}\")"
   ],
   "metadata": {
    "collapsed": false,
    "ExecuteTime": {
     "end_time": "2024-03-11T11:33:48.457250700Z",
     "start_time": "2024-03-11T11:33:48.428296100Z"
    }
   },
   "id": "f388ca45c2e267b2"
  },
  {
   "cell_type": "code",
   "execution_count": null,
   "outputs": [],
   "source": [],
   "metadata": {
    "collapsed": false
   },
   "id": "e04ce1e0a6fc102b"
  }
 ],
 "metadata": {
  "kernelspec": {
   "display_name": "Python 3",
   "language": "python",
   "name": "python3"
  },
  "language_info": {
   "codemirror_mode": {
    "name": "ipython",
    "version": 2
   },
   "file_extension": ".py",
   "mimetype": "text/x-python",
   "name": "python",
   "nbconvert_exporter": "python",
   "pygments_lexer": "ipython2",
   "version": "2.7.6"
  }
 },
 "nbformat": 4,
 "nbformat_minor": 5
}
