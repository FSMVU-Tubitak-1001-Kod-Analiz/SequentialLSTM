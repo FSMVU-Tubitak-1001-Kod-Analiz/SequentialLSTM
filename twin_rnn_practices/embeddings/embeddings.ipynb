{
 "cells": [
  {
   "cell_type": "code",
   "execution_count": 11,
   "id": "initial_id",
   "metadata": {
    "collapsed": true,
    "ExecuteTime": {
     "end_time": "2024-03-11T11:27:39.821626Z",
     "start_time": "2024-03-11T11:27:39.804576900Z"
    }
   },
   "outputs": [],
   "source": [
    "import pandas as pd\n",
    "import numpy as np\n",
    "from sentence_transformers import SentenceTransformer, util\n",
    "import torch"
   ]
  },
  {
   "cell_type": "code",
   "execution_count": 2,
   "outputs": [],
   "source": [],
   "metadata": {
    "collapsed": false,
    "ExecuteTime": {
     "end_time": "2024-03-11T11:20:39.694334400Z",
     "start_time": "2024-03-11T11:20:39.686319600Z"
    }
   },
   "id": "a5c336b94e89cca8"
  },
  {
   "cell_type": "code",
   "execution_count": 21,
   "outputs": [
    {
     "data": {
      "text/plain": "                                             old_code  \\\n0   {\"function\": \"public boolean doSave(Carrello b...   \n1   {\"function\": \"protected void doPost(HttpServle...   \n2   {\"function\": \"public static synchronized void ...   \n3   {\"function\": \"public static synchronized void ...   \n4   {\"function\": \"public static synchronized byte[...   \n..                                                ...   \n88  {\"function\": \"public Object deserialize(JsonPa...   \n89  {\"function\": \" CodeEmitter<T> emit(final Strin...   \n90  {\"function\": \"public Expression createExpressi...   \n91  {\"function\": \"public ConfigurationPropertiesVa...   \n92  {\"function\": \"public void remove(CamelContext ...   \n\n                                           fixed_code     SmellRule  \\\n0   {\"function\": \"public boolean doSave(Carrello b...   java:S106\\n   \n1   {\"function\": \"protected void doPost(HttpServle...   java:S106\\n   \n2   {\"function\": \"public static synchronized void ...   java:S106\\n   \n3   {\"function\": \"public static synchronized void ...   java:S106\\n   \n4   {\"function\": \"public static synchronized byte[...   java:S106\\n   \n..                                                ...           ...   \n88  {\"function\": \"public Object deserialize(JsonPa...  java:S3740\\n   \n89  {\"function\": \" CodeEmitter<T> emit(final Strin...  java:S3776\\n   \n90  {\"function\": \"public Expression createExpressi...  java:S3740\\n   \n91  {\"function\": \"public ConfigurationPropertiesVa...  java:S3776\\n   \n92  {\"function\": \"public void remove(CamelContext ...  java:S1181\\n   \n\n    smellKey_encoded  \n0                  0  \n1                  0  \n2                  0  \n3                  0  \n4                  0  \n..               ...  \n88                23  \n89                24  \n90                23  \n91                24  \n92                 9  \n\n[93 rows x 4 columns]",
      "text/html": "<div>\n<style scoped>\n    .dataframe tbody tr th:only-of-type {\n        vertical-align: middle;\n    }\n\n    .dataframe tbody tr th {\n        vertical-align: top;\n    }\n\n    .dataframe thead th {\n        text-align: right;\n    }\n</style>\n<table border=\"1\" class=\"dataframe\">\n  <thead>\n    <tr style=\"text-align: right;\">\n      <th></th>\n      <th>old_code</th>\n      <th>fixed_code</th>\n      <th>SmellRule</th>\n      <th>smellKey_encoded</th>\n    </tr>\n  </thead>\n  <tbody>\n    <tr>\n      <th>0</th>\n      <td>{\"function\": \"public boolean doSave(Carrello b...</td>\n      <td>{\"function\": \"public boolean doSave(Carrello b...</td>\n      <td>java:S106\\n</td>\n      <td>0</td>\n    </tr>\n    <tr>\n      <th>1</th>\n      <td>{\"function\": \"protected void doPost(HttpServle...</td>\n      <td>{\"function\": \"protected void doPost(HttpServle...</td>\n      <td>java:S106\\n</td>\n      <td>0</td>\n    </tr>\n    <tr>\n      <th>2</th>\n      <td>{\"function\": \"public static synchronized void ...</td>\n      <td>{\"function\": \"public static synchronized void ...</td>\n      <td>java:S106\\n</td>\n      <td>0</td>\n    </tr>\n    <tr>\n      <th>3</th>\n      <td>{\"function\": \"public static synchronized void ...</td>\n      <td>{\"function\": \"public static synchronized void ...</td>\n      <td>java:S106\\n</td>\n      <td>0</td>\n    </tr>\n    <tr>\n      <th>4</th>\n      <td>{\"function\": \"public static synchronized byte[...</td>\n      <td>{\"function\": \"public static synchronized byte[...</td>\n      <td>java:S106\\n</td>\n      <td>0</td>\n    </tr>\n    <tr>\n      <th>...</th>\n      <td>...</td>\n      <td>...</td>\n      <td>...</td>\n      <td>...</td>\n    </tr>\n    <tr>\n      <th>88</th>\n      <td>{\"function\": \"public Object deserialize(JsonPa...</td>\n      <td>{\"function\": \"public Object deserialize(JsonPa...</td>\n      <td>java:S3740\\n</td>\n      <td>23</td>\n    </tr>\n    <tr>\n      <th>89</th>\n      <td>{\"function\": \" CodeEmitter&lt;T&gt; emit(final Strin...</td>\n      <td>{\"function\": \" CodeEmitter&lt;T&gt; emit(final Strin...</td>\n      <td>java:S3776\\n</td>\n      <td>24</td>\n    </tr>\n    <tr>\n      <th>90</th>\n      <td>{\"function\": \"public Expression createExpressi...</td>\n      <td>{\"function\": \"public Expression createExpressi...</td>\n      <td>java:S3740\\n</td>\n      <td>23</td>\n    </tr>\n    <tr>\n      <th>91</th>\n      <td>{\"function\": \"public ConfigurationPropertiesVa...</td>\n      <td>{\"function\": \"public ConfigurationPropertiesVa...</td>\n      <td>java:S3776\\n</td>\n      <td>24</td>\n    </tr>\n    <tr>\n      <th>92</th>\n      <td>{\"function\": \"public void remove(CamelContext ...</td>\n      <td>{\"function\": \"public void remove(CamelContext ...</td>\n      <td>java:S1181\\n</td>\n      <td>9</td>\n    </tr>\n  </tbody>\n</table>\n<p>93 rows × 4 columns</p>\n</div>"
     },
     "execution_count": 21,
     "metadata": {},
     "output_type": "execute_result"
    }
   ],
   "source": [
    "df = pd.read_csv(\"./filtered_data.csv\")\n",
    "df"
   ],
   "metadata": {
    "collapsed": false,
    "ExecuteTime": {
     "end_time": "2024-03-12T06:00:36.554863200Z",
     "start_time": "2024-03-12T06:00:35.859285100Z"
    }
   },
   "id": "d67dfec54f455b4b"
  },
  {
   "cell_type": "code",
   "execution_count": 22,
   "outputs": [],
   "source": [
    "import csv\n",
    "import pandas as pd\n",
    "from sklearn.preprocessing import LabelEncoder\n",
    "import pickle\n",
    "# Extract the \"smellKey\" column values\n",
    "smellKey = df['SmellRule'].values\n",
    "\n",
    "# Perform label encoding\n",
    "encoder = LabelEncoder()\n",
    "encoded_messages = encoder.fit_transform(smellKey)\n",
    "\n",
    "# Update the DataFrame with the encoded values\n",
    "df_encoded = df.copy()\n",
    "df_encoded['smellKey_encoded'] = encoded_messages\n",
    "\n",
    "# Save the encoded content to a new CSV file\n",
    "output_file = 'Temp_smellKey-data_encoded.csv'\n",
    "df_encoded.to_csv(output_file, index=False)\n",
    "\n",
    "# Save the encoding vocabulary\n",
    "vocabulary_file = 'smellKey_encoding_vocabulary.pkl'\n",
    "with open(vocabulary_file, 'wb') as f:\n",
    "    pickle.dump(encoder.classes_, f)\n"
   ],
   "metadata": {
    "collapsed": false,
    "ExecuteTime": {
     "end_time": "2024-03-12T06:00:39.361073900Z",
     "start_time": "2024-03-12T06:00:39.293974400Z"
    }
   },
   "id": "99793b2b7549a38a"
  },
  {
   "cell_type": "markdown",
   "source": [],
   "metadata": {
    "collapsed": false
   },
   "id": "2c1d7ce4a860f061"
  },
  {
   "cell_type": "code",
   "execution_count": 23,
   "outputs": [],
   "source": [
    "import pickle\n",
    "\n",
    "# Extract the 'message_encoded' column\n",
    "message_encoded = df['SmellRule']\n",
    "\n",
    "# Save the message_encoded values to a pickle file\n",
    "with open('SmellRuleEncoded.pkl', 'wb') as file:\n",
    "    pickle.dump(message_encoded, file)\n",
    "with open('SmellRuleEncoded.pkl', 'wb') as file:\n",
    "    pickle.dump(message_encoded, file)"
   ],
   "metadata": {
    "collapsed": false,
    "ExecuteTime": {
     "end_time": "2024-03-12T06:00:47.798680800Z",
     "start_time": "2024-03-12T06:00:47.791030600Z"
    }
   },
   "id": "c9eb6f24ed788074"
  },
  {
   "cell_type": "code",
   "execution_count": 26,
   "outputs": [],
   "source": [
    "old_code = df['old_code'].tolist()\n",
    "preprocessed_old_code = [fn.strip() for fn in old_code]\n",
    "\n",
    "fixed_code = df['fixed_code'].tolist()\n",
    "preprocessed_fixed_code = [fn.strip() for fn in fixed_code]\n",
    "\n",
    "model = SentenceTransformer('bert-base-nli-mean-tokens')\n",
    "\n",
    "old_embeddings = model.encode(preprocessed_old_code, convert_to_tensor=True)\n",
    "save_path2 = 'bert_old2.pt'\n",
    "torch.save(old_embeddings, save_path2)\n",
    "fixed_embeddings = model.encode(preprocessed_fixed_code, convert_to_tensor=True)\n",
    "\n",
    "save_path = 'bert_fixed2.pt'\n",
    "torch.save(fixed_embeddings, save_path)\n"
   ],
   "metadata": {
    "collapsed": false,
    "ExecuteTime": {
     "end_time": "2024-03-12T09:08:30.774677900Z",
     "start_time": "2024-03-12T09:07:34.335985400Z"
    }
   },
   "id": "28a76cac62587681"
  },
  {
   "cell_type": "code",
   "execution_count": 27,
   "outputs": [
    {
     "data": {
      "text/plain": "tensor([[-2.4374e-01,  1.0850e+00,  1.6211e-01,  ..., -5.7251e-01,\n          1.9241e-01,  4.1632e-01],\n        [ 6.8626e-04,  5.4104e-01,  5.9159e-01,  ..., -1.1429e-01,\n         -4.1351e-01,  6.4309e-01],\n        [ 1.1854e-01,  8.9044e-01,  2.8712e-01,  ..., -5.0341e-01,\n          1.2426e-01,  4.8268e-01],\n        ...,\n        [-2.6283e-01,  1.1781e+00,  2.3453e-01,  ..., -1.3080e-01,\n          9.9070e-02,  1.1359e-01],\n        [-3.0876e-01,  2.9136e-01,  5.4072e-01,  ..., -1.3681e-01,\n         -2.7539e-01,  6.3392e-01],\n        [-3.5697e-01,  5.4462e-01,  8.1329e-01,  ..., -1.5163e-01,\n         -3.1658e-01,  4.3520e-01]])"
     },
     "execution_count": 27,
     "metadata": {},
     "output_type": "execute_result"
    }
   ],
   "source": [
    "loaded_fixembed = torch.load(save_path)\n",
    "loaded_fixembed"
   ],
   "metadata": {
    "collapsed": false,
    "ExecuteTime": {
     "end_time": "2024-03-12T09:08:33.611696800Z",
     "start_time": "2024-03-12T09:08:33.602386100Z"
    }
   },
   "id": "5da9fac1ecfc491"
  },
  {
   "cell_type": "code",
   "execution_count": 28,
   "outputs": [
    {
     "data": {
      "text/plain": "tensor([[-2.4374e-01,  1.0850e+00,  1.6211e-01,  ..., -5.7251e-01,\n          1.9241e-01,  4.1632e-01],\n        [ 6.8626e-04,  5.4104e-01,  5.9159e-01,  ..., -1.1429e-01,\n         -4.1351e-01,  6.4309e-01],\n        [ 1.1854e-01,  8.9044e-01,  2.8712e-01,  ..., -5.0341e-01,\n          1.2426e-01,  4.8268e-01],\n        ...,\n        [-2.6283e-01,  1.1781e+00,  2.3453e-01,  ..., -1.3080e-01,\n          9.9070e-02,  1.1359e-01],\n        [-3.0876e-01,  2.9136e-01,  5.4072e-01,  ..., -1.3681e-01,\n         -2.7539e-01,  6.3392e-01],\n        [-3.5697e-01,  5.4462e-01,  8.1329e-01,  ..., -1.5163e-01,\n         -3.1658e-01,  4.3520e-01]])"
     },
     "execution_count": 28,
     "metadata": {},
     "output_type": "execute_result"
    }
   ],
   "source": [
    "save_path2 = 'bert_old2.pt'\n",
    "loaded_oldembed= torch.load(save_path2)\n",
    "loaded_oldembed                                     "
   ],
   "metadata": {
    "collapsed": false,
    "ExecuteTime": {
     "end_time": "2024-03-12T09:08:35.948471600Z",
     "start_time": "2024-03-12T09:08:35.932409800Z"
    }
   },
   "id": "c9e97d607eace145"
  },
  {
   "cell_type": "code",
   "execution_count": 29,
   "outputs": [
    {
     "name": "stdout",
     "output_type": "stream",
     "text": [
      "Number of old embeddings: 93\n",
      "Number of fix embeddings: 93\n"
     ]
    }
   ],
   "source": [
    "num_embeddings = loaded_oldembed.shape[0]\n",
    "print(f\"Number of old embeddings: {num_embeddings}\")\n",
    "num_embeddings = loaded_fixembed.shape[0]\n",
    "print(f\"Number of fix embeddings: {num_embeddings}\")"
   ],
   "metadata": {
    "collapsed": false,
    "ExecuteTime": {
     "end_time": "2024-03-12T09:08:37.986029300Z",
     "start_time": "2024-03-12T09:08:37.960647200Z"
    }
   },
   "id": "f388ca45c2e267b2"
  },
  {
   "cell_type": "code",
   "execution_count": null,
   "outputs": [],
   "source": [],
   "metadata": {
    "collapsed": false
   },
   "id": "e04ce1e0a6fc102b"
  }
 ],
 "metadata": {
  "kernelspec": {
   "display_name": "Python 3",
   "language": "python",
   "name": "python3"
  },
  "language_info": {
   "codemirror_mode": {
    "name": "ipython",
    "version": 2
   },
   "file_extension": ".py",
   "mimetype": "text/x-python",
   "name": "python",
   "nbconvert_exporter": "python",
   "pygments_lexer": "ipython2",
   "version": "2.7.6"
  }
 },
 "nbformat": 4,
 "nbformat_minor": 5
}
