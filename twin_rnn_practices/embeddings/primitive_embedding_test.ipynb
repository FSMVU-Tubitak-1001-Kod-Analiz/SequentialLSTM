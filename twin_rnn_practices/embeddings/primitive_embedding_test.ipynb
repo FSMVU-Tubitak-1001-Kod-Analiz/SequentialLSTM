{
 "cells": [
  {
   "cell_type": "code",
   "execution_count": 8,
   "id": "initial_id",
   "metadata": {
    "collapsed": true,
    "ExecuteTime": {
     "end_time": "2024-03-03T21:29:39.566216600Z",
     "start_time": "2024-03-03T21:29:39.544982400Z"
    }
   },
   "outputs": [
    {
     "data": {
      "text/plain": "0      0\n1      0\n2      0\n3      0\n4      0\n      ..\n595    1\n596    1\n597    1\n598    1\n599    1\nName: SmellKey, Length: 600, dtype: int64"
     },
     "execution_count": 8,
     "metadata": {},
     "output_type": "execute_result"
    }
   ],
   "source": [
    "import pandas as pd\n",
    "import torch\n",
    "\n",
    "# Load the contents of function_smell_embeddings.pt\n",
    "old_embed = torch.load('./old_embeddings.pt')\n",
    "fix_embed = torch.load('./fixed_codes_embeddings.pt')\n",
    "smell_key = pd.read_csv(\"combined_codes_updated.csv\")[\"SmellKey\"]\n",
    "smell_key"
   ]
  },
  {
   "cell_type": "markdown",
   "source": [
    "# Import"
   ],
   "metadata": {
    "collapsed": false
   },
   "id": "2c7274610d826e"
  },
  {
   "cell_type": "code",
   "execution_count": null,
   "outputs": [],
   "source": [],
   "metadata": {
    "collapsed": false
   },
   "id": "3c0129db22896f27"
  },
  {
   "cell_type": "code",
   "execution_count": 43,
   "outputs": [],
   "source": [
    "import pandas as pd\n",
    "import numpy as np\n",
    "import torch\n",
    "import torch.nn as nn\n",
    "import seaborn as sns\n",
    "from torch.utils.data import DataLoader, TensorDataset\n",
    "from sklearn.metrics import precision_score, recall_score, f1_score, confusion_matrix\n",
    "import matplotlib.pyplot as plt\n",
    "from sklearn.model_selection import train_test_split\n",
    "import pickle"
   ],
   "metadata": {
    "collapsed": false,
    "ExecuteTime": {
     "end_time": "2024-03-03T21:59:23.519344300Z",
     "start_time": "2024-03-03T21:59:22.877946200Z"
    }
   },
   "id": "8b8012a723b8aef8"
  },
  {
   "cell_type": "code",
   "execution_count": 40,
   "outputs": [
    {
     "name": "stdout",
     "output_type": "stream",
     "text": [
      "(600, 768)\n"
     ]
    }
   ],
   "source": [
    "# Combine the embeddings and encoded messages into a DataFrame\n",
    "data = pd.DataFrame({\n",
    "    'old_code': old_embed.tolist(),\n",
    "    'fixed_code': fix_embed.tolist(),\n",
    "    'smellKey_encoded': smell_key\n",
    "})\n",
    "\n",
    "# Split the data into features (embeddings) and labels (messages)\n",
    "#numpy.darray\n",
    "X = np.array(data['old_code'].tolist())\n",
    "#X = np.column_stack((data['old_code'].tolist(), data['fixed_code'].tolist()))\n",
    "\n",
    "print(X.shape)\n",
    "y = np.array(data['smellKey_encoded'])\n",
    "\n",
    "# Split the data into training and testing sets\n",
    "X_train, X_test, y_train, y_test = train_test_split(X, y, test_size=0.2, random_state=42)\n",
    "\n",
    "# Convert data to PyTorch tensors\n",
    "X_train_tensor = torch.tensor(X_train).unsqueeze(1)\n",
    "y_train_tensor = torch.tensor(y_train)\n",
    "X_test_tensor = torch.tensor(X_test).unsqueeze(1)\n",
    "y_test_tensor = torch.tensor(y_test)\n"
   ],
   "metadata": {
    "collapsed": false,
    "ExecuteTime": {
     "end_time": "2024-03-03T21:46:42.791340200Z",
     "start_time": "2024-03-03T21:46:42.777671400Z"
    }
   },
   "id": "9336fa2c5efff68e"
  },
  {
   "cell_type": "markdown",
   "source": [
    "# Model"
   ],
   "metadata": {
    "collapsed": false
   },
   "id": "fbfc94c748a77490"
  },
  {
   "cell_type": "code",
   "execution_count": 41,
   "outputs": [
    {
     "name": "stdout",
     "output_type": "stream",
     "text": [
      "768 128 2\n"
     ]
    }
   ],
   "source": [
    "# Define the LSTM model\n",
    "class LSTMModel(nn.Module):\n",
    "    def __init__(self, input_dim, hidden_dim, output_dim):\n",
    "        super(LSTMModel, self).__init__()\n",
    "        self.hidden_dim = hidden_dim\n",
    "        self.lstm = nn.LSTM(input_dim, hidden_dim, batch_first=True)\n",
    "        self.fc = nn.Linear(hidden_dim, output_dim)\n",
    "\n",
    "    def forward(self, x):\n",
    "        _, (h_n, _) = self.lstm(x)\n",
    "        out = self.fc(h_n[-1])\n",
    "        return out\n",
    "\n",
    "# Define the model parameters\n",
    "input_dim = X_train_tensor.shape[2]\n",
    "hidden_dim = 128\n",
    "output_dim = len(np.unique(y_train))\n",
    "\n",
    "print(input_dim, hidden_dim, output_dim)\n",
    "\n",
    "# Create the LSTM model\n",
    "model = LSTMModel(input_dim, hidden_dim, output_dim)\n",
    "\n",
    "# Define the loss function and optimizer\n",
    "criterion = nn.CrossEntropyLoss()\n",
    "optimizer = torch.optim.Adam(model.parameters(), lr=0.001)\n",
    "\n",
    "# Create DataLoader objects\n",
    "train_data = TensorDataset(X_train_tensor, y_train_tensor)\n",
    "train_loader = DataLoader(train_data, batch_size=128, shuffle=True)\n",
    "\n",
    "# Define empty lists to store evaluation metrics\n",
    "train_accuracy_list = []\n",
    "val_accuracy_list = []\n",
    "precision_list = []\n",
    "recall_list = []\n",
    "f1_list = []"
   ],
   "metadata": {
    "collapsed": false,
    "ExecuteTime": {
     "end_time": "2024-03-03T21:46:45.016341Z",
     "start_time": "2024-03-03T21:46:45.007149800Z"
    }
   },
   "id": "88714ff2ba70ca75"
  },
  {
   "cell_type": "markdown",
   "source": [
    "# Train"
   ],
   "metadata": {
    "collapsed": false
   },
   "id": "340f0b72b10e956d"
  },
  {
   "cell_type": "code",
   "execution_count": 42,
   "outputs": [
    {
     "name": "stdout",
     "output_type": "stream",
     "text": [
      "Epoch 1/30, Train Loss: , Train Accuracy: 0.9979, Test Accuracy: 0.9917\n",
      "Epoch 2/30, Train Loss: , Train Accuracy: 1.0000, Test Accuracy: 1.0000\n",
      "Epoch 3/30, Train Loss: , Train Accuracy: 1.0000, Test Accuracy: 1.0000\n",
      "Epoch 4/30, Train Loss: , Train Accuracy: 1.0000, Test Accuracy: 1.0000\n",
      "Epoch 5/30, Train Loss: , Train Accuracy: 1.0000, Test Accuracy: 1.0000\n",
      "Epoch 6/30, Train Loss: , Train Accuracy: 1.0000, Test Accuracy: 1.0000\n",
      "Epoch 7/30, Train Loss: , Train Accuracy: 1.0000, Test Accuracy: 1.0000\n",
      "Epoch 8/30, Train Loss: , Train Accuracy: 1.0000, Test Accuracy: 1.0000\n",
      "Epoch 9/30, Train Loss: , Train Accuracy: 1.0000, Test Accuracy: 1.0000\n",
      "Epoch 10/30, Train Loss: , Train Accuracy: 1.0000, Test Accuracy: 1.0000\n",
      "Epoch 11/30, Train Loss: , Train Accuracy: 1.0000, Test Accuracy: 1.0000\n",
      "Epoch 12/30, Train Loss: , Train Accuracy: 1.0000, Test Accuracy: 1.0000\n",
      "Epoch 13/30, Train Loss: , Train Accuracy: 1.0000, Test Accuracy: 1.0000\n",
      "Epoch 14/30, Train Loss: , Train Accuracy: 1.0000, Test Accuracy: 1.0000\n",
      "Epoch 15/30, Train Loss: , Train Accuracy: 1.0000, Test Accuracy: 1.0000\n",
      "Epoch 16/30, Train Loss: , Train Accuracy: 1.0000, Test Accuracy: 1.0000\n",
      "Epoch 17/30, Train Loss: , Train Accuracy: 1.0000, Test Accuracy: 1.0000\n",
      "Epoch 18/30, Train Loss: , Train Accuracy: 1.0000, Test Accuracy: 1.0000\n",
      "Epoch 19/30, Train Loss: , Train Accuracy: 1.0000, Test Accuracy: 1.0000\n",
      "Epoch 20/30, Train Loss: , Train Accuracy: 1.0000, Test Accuracy: 1.0000\n",
      "Epoch 21/30, Train Loss: , Train Accuracy: 1.0000, Test Accuracy: 1.0000\n",
      "Epoch 22/30, Train Loss: , Train Accuracy: 1.0000, Test Accuracy: 1.0000\n",
      "Epoch 23/30, Train Loss: , Train Accuracy: 1.0000, Test Accuracy: 1.0000\n",
      "Epoch 24/30, Train Loss: , Train Accuracy: 1.0000, Test Accuracy: 1.0000\n",
      "Epoch 25/30, Train Loss: , Train Accuracy: 1.0000, Test Accuracy: 1.0000\n",
      "Epoch 26/30, Train Loss: , Train Accuracy: 1.0000, Test Accuracy: 1.0000\n",
      "Epoch 27/30, Train Loss: , Train Accuracy: 1.0000, Test Accuracy: 1.0000\n",
      "Epoch 28/30, Train Loss: , Train Accuracy: 1.0000, Test Accuracy: 1.0000\n",
      "Epoch 29/30, Train Loss: , Train Accuracy: 1.0000, Test Accuracy: 1.0000\n",
      "Epoch 30/30, Train Loss: , Train Accuracy: 1.0000, Test Accuracy: 1.0000\n"
     ]
    }
   ],
   "source": [
    "# Training the LSTM model\n",
    "num_epochs = 30\n",
    "for epoch in range(num_epochs):\n",
    "    total_loss = 0\n",
    "    for inputs, labels in train_loader:\n",
    "        optimizer.zero_grad()\n",
    "        outputs = model(inputs.float())\n",
    "        #print(outputs.shape)\n",
    "        #print(labels.shape)\n",
    "        loss = criterion(outputs, labels)\n",
    "        loss.backward()\n",
    "        optimizer.step()\n",
    "        total_loss += loss.item()\n",
    "\n",
    "    avg_loss = total_loss / len(train_loader)\n",
    "    # Evaluate the LSTM model\n",
    "    with torch.no_grad():\n",
    "        model.eval()\n",
    "        train_outputs = model(X_train_tensor.float())\n",
    "        _, train_predicted = torch.max(train_outputs.data, 1)\n",
    "        train_accuracy = (train_predicted == y_train_tensor).sum().item() / len(y_train_tensor)\n",
    "\n",
    "        val_outputs = model(X_test_tensor.float())\n",
    "        _, val_predicted = torch.max(val_outputs.data, 1)\n",
    "        val_accuracy = (val_predicted == y_test_tensor).sum().item() / len(y_test_tensor)\n",
    "\n",
    "        train_precision = precision_score(y_train_tensor, train_predicted, average='weighted', zero_division=1)\n",
    "        val_precision = precision_score(y_test_tensor, val_predicted, average='weighted', zero_division=1)\n",
    "\n",
    "        train_recall = recall_score(y_train_tensor, train_predicted, average='weighted')\n",
    "        val_recall = recall_score(y_test_tensor, val_predicted, average='weighted')\n",
    "\n",
    "        train_f1 = f1_score(y_train_tensor, train_predicted, average='weighted', zero_division=1)\n",
    "        val_f1 = f1_score(y_test_tensor, val_predicted, average='weighted', zero_division=1)\n",
    "\n",
    "        train_accuracy_list.append(train_accuracy)\n",
    "        val_accuracy_list.append(val_accuracy)\n",
    "        precision_list.append(val_precision)\n",
    "        recall_list.append(val_recall)\n",
    "        f1_list.append(val_f1)\n",
    "\n",
    "        print(f\"Epoch {epoch+1}/{num_epochs}, Train Loss: , \"\n",
    "              f\"Train Accuracy: {train_accuracy:.4f}, Test Accuracy: {val_accuracy:.4f}\")\n"
   ],
   "metadata": {
    "collapsed": false,
    "ExecuteTime": {
     "end_time": "2024-03-03T21:46:48.506501700Z",
     "start_time": "2024-03-03T21:46:47.041260700Z"
    }
   },
   "id": "dbc938fd30c9f560"
  },
  {
   "cell_type": "code",
   "execution_count": 46,
   "outputs": [
    {
     "name": "stdout",
     "output_type": "stream",
     "text": [
      "30\n"
     ]
    },
    {
     "data": {
      "text/plain": "<Figure size 640x480 with 1 Axes>",
      "image/png": "[encoded data removed]"
     },
     "metadata": {},
     "output_type": "display_data"
    },
    {
     "data": {
      "text/plain": "<Figure size 640x480 with 1 Axes>",
      "image/png": "[encoded data removed]"
     },
     "metadata": {},
     "output_type": "display_data"
    }
   ],
   "source": [
    "# Plot the accuracy over epochs for training and validation\n",
    "print(len(val_accuracy_list))\n",
    "plt.plot(range(1, num_epochs + 1), train_accuracy_list, label='Train Accuracy')\n",
    "plt.plot(range(1, num_epochs + 1), val_accuracy_list, label='Test Accuracy')\n",
    "plt.xlabel(\"Epochs\")\n",
    "plt.ylabel(\"Accuracy\")\n",
    "plt.title(\"Accuracy over Epochs\")\n",
    "plt.legend()\n",
    "plt.show()\n",
    "\n",
    "\n",
    "# Plot precision, recall, and F1-score over epochs for validation\n",
    "plt.plot(range(1, num_epochs + 1), precision_list, label='Precision')\n",
    "plt.plot(range(1, num_epochs + 1), recall_list, label='Recall')\n",
    "plt.plot(range(1, num_epochs + 1), f1_list, label='F1-score')\n",
    "plt.xlabel(\"Epochs\")\n",
    "plt.ylabel(\"Metrics\")\n",
    "plt.title(\"Metrics over Epochs (Test)\")\n",
    "plt.legend()\n",
    "plt.show()"
   ],
   "metadata": {
    "collapsed": false,
    "ExecuteTime": {
     "end_time": "2024-03-03T21:59:49.895768100Z",
     "start_time": "2024-03-03T21:59:49.657896600Z"
    }
   },
   "id": "9cfc8df425eccbb9"
  },
  {
   "cell_type": "code",
   "execution_count": null,
   "outputs": [],
   "source": [],
   "metadata": {
    "collapsed": false
   },
   "id": "3cf57a0305ccd65f"
  }
 ],
 "metadata": {
  "kernelspec": {
   "display_name": "Python 3",
   "language": "python",
   "name": "python3"
  },
  "language_info": {
   "codemirror_mode": {
    "name": "ipython",
    "version": 2
   },
   "file_extension": ".py",
   "mimetype": "text/x-python",
   "name": "python",
   "nbconvert_exporter": "python",
   "pygments_lexer": "ipython2",
   "version": "2.7.6"
  }
 },
 "nbformat": 4,
 "nbformat_minor": 5
}
