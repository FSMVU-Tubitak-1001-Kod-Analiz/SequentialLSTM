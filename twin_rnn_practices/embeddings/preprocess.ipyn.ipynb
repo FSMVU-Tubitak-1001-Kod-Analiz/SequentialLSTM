{
 "cells": [
  {
   "cell_type": "code",
   "execution_count": 3,
   "id": "initial_id",
   "metadata": {
    "collapsed": true,
    "ExecuteTime": {
     "end_time": "2024-03-12T05:45:28.720043200Z",
     "start_time": "2024-03-12T05:45:28.700338600Z"
    }
   },
   "outputs": [],
   "source": [
    "import pandas as pd\n",
    "import numpy as np"
   ]
  },
  {
   "cell_type": "code",
   "execution_count": 4,
   "outputs": [
    {
     "data": {
      "text/plain": "                                              old_code  \\\n0    {\"function\": \"public boolean doSave(Carrello b...   \n1    {\"function\": \"public Collection<Carrello> doRe...   \n2    {\"function\": \"public Collection<Carrello> getO...   \n3    {\"function\": \"public Collection<Carrello> doRe...   \n4    {\"function\": \"public ArrayList<ScarpaOrdine> g...   \n..                                                 ...   \n135  {\"function\": \"public Expression createExpressi...   \n136  {\"function\": \"public ConfigurationPropertiesVa...   \n137  {\"function\": \"public void remove(CamelContext ...   \n138  {\"function\": \"protected Map<String, Object> pr...   \n139  {\"function\": \"private JavaClass generateParser...   \n\n                                            fixed_code     SmellRule  \\\n0    {\"function\": \"public boolean doSave(Carrello b...   java:S106\\n   \n1    {\"function\": \"public Collection<Carrello> doRe...  java:S1168\\n   \n2    {\"function\": \"public Collection<Carrello> getO...  java:S2095\\n   \n3    {\"function\": \"public Collection<Carrello> doRe...  java:S2095\\n   \n4    {\"function\": \"public List<ScarpaOrdine> getSca...  java:S1319\\n   \n..                                                 ...           ...   \n135  {\"function\": \"public Expression createExpressi...  java:S3740\\n   \n136  {\"function\": \"public ConfigurationPropertiesVa...  java:S3776\\n   \n137  {\"function\": \"public void remove(CamelContext ...  java:S1181\\n   \n138  {\"function\": \"protected Map<String, Object> pr...  java:S2293\\n   \n139  {\"function\": \"private JavaClass generateParser...  java:S1192\\n   \n\n     smellKey_encoded  \n0                   0  \n1                   6  \n2                  19  \n3                  19  \n4                  12  \n..                ...  \n135                23  \n136                24  \n137                 9  \n138                22  \n139                10  \n\n[140 rows x 4 columns]",
      "text/html": "<div>\n<style scoped>\n    .dataframe tbody tr th:only-of-type {\n        vertical-align: middle;\n    }\n\n    .dataframe tbody tr th {\n        vertical-align: top;\n    }\n\n    .dataframe thead th {\n        text-align: right;\n    }\n</style>\n<table border=\"1\" class=\"dataframe\">\n  <thead>\n    <tr style=\"text-align: right;\">\n      <th></th>\n      <th>old_code</th>\n      <th>fixed_code</th>\n      <th>SmellRule</th>\n      <th>smellKey_encoded</th>\n    </tr>\n  </thead>\n  <tbody>\n    <tr>\n      <th>0</th>\n      <td>{\"function\": \"public boolean doSave(Carrello b...</td>\n      <td>{\"function\": \"public boolean doSave(Carrello b...</td>\n      <td>java:S106\\n</td>\n      <td>0</td>\n    </tr>\n    <tr>\n      <th>1</th>\n      <td>{\"function\": \"public Collection&lt;Carrello&gt; doRe...</td>\n      <td>{\"function\": \"public Collection&lt;Carrello&gt; doRe...</td>\n      <td>java:S1168\\n</td>\n      <td>6</td>\n    </tr>\n    <tr>\n      <th>2</th>\n      <td>{\"function\": \"public Collection&lt;Carrello&gt; getO...</td>\n      <td>{\"function\": \"public Collection&lt;Carrello&gt; getO...</td>\n      <td>java:S2095\\n</td>\n      <td>19</td>\n    </tr>\n    <tr>\n      <th>3</th>\n      <td>{\"function\": \"public Collection&lt;Carrello&gt; doRe...</td>\n      <td>{\"function\": \"public Collection&lt;Carrello&gt; doRe...</td>\n      <td>java:S2095\\n</td>\n      <td>19</td>\n    </tr>\n    <tr>\n      <th>4</th>\n      <td>{\"function\": \"public ArrayList&lt;ScarpaOrdine&gt; g...</td>\n      <td>{\"function\": \"public List&lt;ScarpaOrdine&gt; getSca...</td>\n      <td>java:S1319\\n</td>\n      <td>12</td>\n    </tr>\n    <tr>\n      <th>...</th>\n      <td>...</td>\n      <td>...</td>\n      <td>...</td>\n      <td>...</td>\n    </tr>\n    <tr>\n      <th>135</th>\n      <td>{\"function\": \"public Expression createExpressi...</td>\n      <td>{\"function\": \"public Expression createExpressi...</td>\n      <td>java:S3740\\n</td>\n      <td>23</td>\n    </tr>\n    <tr>\n      <th>136</th>\n      <td>{\"function\": \"public ConfigurationPropertiesVa...</td>\n      <td>{\"function\": \"public ConfigurationPropertiesVa...</td>\n      <td>java:S3776\\n</td>\n      <td>24</td>\n    </tr>\n    <tr>\n      <th>137</th>\n      <td>{\"function\": \"public void remove(CamelContext ...</td>\n      <td>{\"function\": \"public void remove(CamelContext ...</td>\n      <td>java:S1181\\n</td>\n      <td>9</td>\n    </tr>\n    <tr>\n      <th>138</th>\n      <td>{\"function\": \"protected Map&lt;String, Object&gt; pr...</td>\n      <td>{\"function\": \"protected Map&lt;String, Object&gt; pr...</td>\n      <td>java:S2293\\n</td>\n      <td>22</td>\n    </tr>\n    <tr>\n      <th>139</th>\n      <td>{\"function\": \"private JavaClass generateParser...</td>\n      <td>{\"function\": \"private JavaClass generateParser...</td>\n      <td>java:S1192\\n</td>\n      <td>10</td>\n    </tr>\n  </tbody>\n</table>\n<p>140 rows × 4 columns</p>\n</div>"
     },
     "execution_count": 4,
     "metadata": {},
     "output_type": "execute_result"
    }
   ],
   "source": [
    "df = pd.read_csv(\"Temp_smellKey-data_encoded.csv\")\n",
    "df"
   ],
   "metadata": {
    "collapsed": false,
    "ExecuteTime": {
     "end_time": "2024-03-12T05:45:29.707096500Z",
     "start_time": "2024-03-12T05:45:29.649602Z"
    }
   },
   "id": "909817c573cf3fd6"
  },
  {
   "cell_type": "code",
   "execution_count": 21,
   "outputs": [
    {
     "data": {
      "text/plain": "                                              old_code  \\\n0    {\"function\": \"public boolean doSave(Carrello b...   \n11   {\"function\": \"protected void doPost(HttpServle...   \n14   {\"function\": \"public static synchronized void ...   \n15   {\"function\": \"public static synchronized void ...   \n16   {\"function\": \"public static synchronized byte[...   \n..                                                 ...   \n132  {\"function\": \"public Object deserialize(JsonPa...   \n133  {\"function\": \" CodeEmitter<T> emit(final Strin...   \n135  {\"function\": \"public Expression createExpressi...   \n136  {\"function\": \"public ConfigurationPropertiesVa...   \n137  {\"function\": \"public void remove(CamelContext ...   \n\n                                            fixed_code     SmellRule  \\\n0    {\"function\": \"public boolean doSave(Carrello b...   java:S106\\n   \n11   {\"function\": \"protected void doPost(HttpServle...   java:S106\\n   \n14   {\"function\": \"public static synchronized void ...   java:S106\\n   \n15   {\"function\": \"public static synchronized void ...   java:S106\\n   \n16   {\"function\": \"public static synchronized byte[...   java:S106\\n   \n..                                                 ...           ...   \n132  {\"function\": \"public Object deserialize(JsonPa...  java:S3740\\n   \n133  {\"function\": \" CodeEmitter<T> emit(final Strin...  java:S3776\\n   \n135  {\"function\": \"public Expression createExpressi...  java:S3740\\n   \n136  {\"function\": \"public ConfigurationPropertiesVa...  java:S3776\\n   \n137  {\"function\": \"public void remove(CamelContext ...  java:S1181\\n   \n\n     smellKey_encoded  \n0                   0  \n11                  0  \n14                  0  \n15                  0  \n16                  0  \n..                ...  \n132                23  \n133                24  \n135                23  \n136                24  \n137                 9  \n\n[93 rows x 4 columns]",
      "text/html": "<div>\n<style scoped>\n    .dataframe tbody tr th:only-of-type {\n        vertical-align: middle;\n    }\n\n    .dataframe tbody tr th {\n        vertical-align: top;\n    }\n\n    .dataframe thead th {\n        text-align: right;\n    }\n</style>\n<table border=\"1\" class=\"dataframe\">\n  <thead>\n    <tr style=\"text-align: right;\">\n      <th></th>\n      <th>old_code</th>\n      <th>fixed_code</th>\n      <th>SmellRule</th>\n      <th>smellKey_encoded</th>\n    </tr>\n  </thead>\n  <tbody>\n    <tr>\n      <th>0</th>\n      <td>{\"function\": \"public boolean doSave(Carrello b...</td>\n      <td>{\"function\": \"public boolean doSave(Carrello b...</td>\n      <td>java:S106\\n</td>\n      <td>0</td>\n    </tr>\n    <tr>\n      <th>11</th>\n      <td>{\"function\": \"protected void doPost(HttpServle...</td>\n      <td>{\"function\": \"protected void doPost(HttpServle...</td>\n      <td>java:S106\\n</td>\n      <td>0</td>\n    </tr>\n    <tr>\n      <th>14</th>\n      <td>{\"function\": \"public static synchronized void ...</td>\n      <td>{\"function\": \"public static synchronized void ...</td>\n      <td>java:S106\\n</td>\n      <td>0</td>\n    </tr>\n    <tr>\n      <th>15</th>\n      <td>{\"function\": \"public static synchronized void ...</td>\n      <td>{\"function\": \"public static synchronized void ...</td>\n      <td>java:S106\\n</td>\n      <td>0</td>\n    </tr>\n    <tr>\n      <th>16</th>\n      <td>{\"function\": \"public static synchronized byte[...</td>\n      <td>{\"function\": \"public static synchronized byte[...</td>\n      <td>java:S106\\n</td>\n      <td>0</td>\n    </tr>\n    <tr>\n      <th>...</th>\n      <td>...</td>\n      <td>...</td>\n      <td>...</td>\n      <td>...</td>\n    </tr>\n    <tr>\n      <th>132</th>\n      <td>{\"function\": \"public Object deserialize(JsonPa...</td>\n      <td>{\"function\": \"public Object deserialize(JsonPa...</td>\n      <td>java:S3740\\n</td>\n      <td>23</td>\n    </tr>\n    <tr>\n      <th>133</th>\n      <td>{\"function\": \" CodeEmitter&lt;T&gt; emit(final Strin...</td>\n      <td>{\"function\": \" CodeEmitter&lt;T&gt; emit(final Strin...</td>\n      <td>java:S3776\\n</td>\n      <td>24</td>\n    </tr>\n    <tr>\n      <th>135</th>\n      <td>{\"function\": \"public Expression createExpressi...</td>\n      <td>{\"function\": \"public Expression createExpressi...</td>\n      <td>java:S3740\\n</td>\n      <td>23</td>\n    </tr>\n    <tr>\n      <th>136</th>\n      <td>{\"function\": \"public ConfigurationPropertiesVa...</td>\n      <td>{\"function\": \"public ConfigurationPropertiesVa...</td>\n      <td>java:S3776\\n</td>\n      <td>24</td>\n    </tr>\n    <tr>\n      <th>137</th>\n      <td>{\"function\": \"public void remove(CamelContext ...</td>\n      <td>{\"function\": \"public void remove(CamelContext ...</td>\n      <td>java:S1181\\n</td>\n      <td>9</td>\n    </tr>\n  </tbody>\n</table>\n<p>93 rows × 4 columns</p>\n</div>"
     },
     "execution_count": 21,
     "metadata": {},
     "output_type": "execute_result"
    }
   ],
   "source": [
    "# Assuming df is your DataFrame\n",
    "top_5_values = df['smellKey_encoded'].value_counts().head(5).index\n",
    "# Filter the DataFrame to keep only the rows with the specified indices\n",
    "df_filtered = df[df['smellKey_encoded'].isin(top_5_values)]\n",
    "df_filtered"
   ],
   "metadata": {
    "collapsed": false,
    "ExecuteTime": {
     "end_time": "2024-03-12T05:54:46.947702300Z",
     "start_time": "2024-03-12T05:54:46.908584100Z"
    }
   },
   "id": "a0e8c99548ec4a53"
  },
  {
   "cell_type": "code",
   "execution_count": 29,
   "outputs": [],
   "source": [
    "df_filtered.to_csv(\"filtered.csv\", sep=',', index=False, encoding='utf-8')\n"
   ],
   "metadata": {
    "collapsed": false,
    "ExecuteTime": {
     "end_time": "2024-03-12T05:59:30.845783800Z",
     "start_time": "2024-03-12T05:59:30.809086700Z"
    }
   },
   "id": "6ca1d3e4aaf2381"
  },
  {
   "cell_type": "code",
   "execution_count": 30,
   "outputs": [
    {
     "data": {
      "text/plain": "                                              old_code  \\\n0    {\"function\": \"public boolean doSave(Carrello b...   \n11   {\"function\": \"protected void doPost(HttpServle...   \n14   {\"function\": \"public static synchronized void ...   \n15   {\"function\": \"public static synchronized void ...   \n16   {\"function\": \"public static synchronized byte[...   \n..                                                 ...   \n132  {\"function\": \"public Object deserialize(JsonPa...   \n133  {\"function\": \" CodeEmitter<T> emit(final Strin...   \n135  {\"function\": \"public Expression createExpressi...   \n136  {\"function\": \"public ConfigurationPropertiesVa...   \n137  {\"function\": \"public void remove(CamelContext ...   \n\n                                            fixed_code     SmellRule  \\\n0    {\"function\": \"public boolean doSave(Carrello b...   java:S106\\n   \n11   {\"function\": \"protected void doPost(HttpServle...   java:S106\\n   \n14   {\"function\": \"public static synchronized void ...   java:S106\\n   \n15   {\"function\": \"public static synchronized void ...   java:S106\\n   \n16   {\"function\": \"public static synchronized byte[...   java:S106\\n   \n..                                                 ...           ...   \n132  {\"function\": \"public Object deserialize(JsonPa...  java:S3740\\n   \n133  {\"function\": \" CodeEmitter<T> emit(final Strin...  java:S3776\\n   \n135  {\"function\": \"public Expression createExpressi...  java:S3740\\n   \n136  {\"function\": \"public ConfigurationPropertiesVa...  java:S3776\\n   \n137  {\"function\": \"public void remove(CamelContext ...  java:S1181\\n   \n\n     smellKey_encoded  \n0                   0  \n11                  0  \n14                  0  \n15                  0  \n16                  0  \n..                ...  \n132                23  \n133                24  \n135                23  \n136                24  \n137                 9  \n\n[93 rows x 4 columns]",
      "text/html": "<div>\n<style scoped>\n    .dataframe tbody tr th:only-of-type {\n        vertical-align: middle;\n    }\n\n    .dataframe tbody tr th {\n        vertical-align: top;\n    }\n\n    .dataframe thead th {\n        text-align: right;\n    }\n</style>\n<table border=\"1\" class=\"dataframe\">\n  <thead>\n    <tr style=\"text-align: right;\">\n      <th></th>\n      <th>old_code</th>\n      <th>fixed_code</th>\n      <th>SmellRule</th>\n      <th>smellKey_encoded</th>\n    </tr>\n  </thead>\n  <tbody>\n    <tr>\n      <th>0</th>\n      <td>{\"function\": \"public boolean doSave(Carrello b...</td>\n      <td>{\"function\": \"public boolean doSave(Carrello b...</td>\n      <td>java:S106\\n</td>\n      <td>0</td>\n    </tr>\n    <tr>\n      <th>11</th>\n      <td>{\"function\": \"protected void doPost(HttpServle...</td>\n      <td>{\"function\": \"protected void doPost(HttpServle...</td>\n      <td>java:S106\\n</td>\n      <td>0</td>\n    </tr>\n    <tr>\n      <th>14</th>\n      <td>{\"function\": \"public static synchronized void ...</td>\n      <td>{\"function\": \"public static synchronized void ...</td>\n      <td>java:S106\\n</td>\n      <td>0</td>\n    </tr>\n    <tr>\n      <th>15</th>\n      <td>{\"function\": \"public static synchronized void ...</td>\n      <td>{\"function\": \"public static synchronized void ...</td>\n      <td>java:S106\\n</td>\n      <td>0</td>\n    </tr>\n    <tr>\n      <th>16</th>\n      <td>{\"function\": \"public static synchronized byte[...</td>\n      <td>{\"function\": \"public static synchronized byte[...</td>\n      <td>java:S106\\n</td>\n      <td>0</td>\n    </tr>\n    <tr>\n      <th>...</th>\n      <td>...</td>\n      <td>...</td>\n      <td>...</td>\n      <td>...</td>\n    </tr>\n    <tr>\n      <th>132</th>\n      <td>{\"function\": \"public Object deserialize(JsonPa...</td>\n      <td>{\"function\": \"public Object deserialize(JsonPa...</td>\n      <td>java:S3740\\n</td>\n      <td>23</td>\n    </tr>\n    <tr>\n      <th>133</th>\n      <td>{\"function\": \" CodeEmitter&lt;T&gt; emit(final Strin...</td>\n      <td>{\"function\": \" CodeEmitter&lt;T&gt; emit(final Strin...</td>\n      <td>java:S3776\\n</td>\n      <td>24</td>\n    </tr>\n    <tr>\n      <th>135</th>\n      <td>{\"function\": \"public Expression createExpressi...</td>\n      <td>{\"function\": \"public Expression createExpressi...</td>\n      <td>java:S3740\\n</td>\n      <td>23</td>\n    </tr>\n    <tr>\n      <th>136</th>\n      <td>{\"function\": \"public ConfigurationPropertiesVa...</td>\n      <td>{\"function\": \"public ConfigurationPropertiesVa...</td>\n      <td>java:S3776\\n</td>\n      <td>24</td>\n    </tr>\n    <tr>\n      <th>137</th>\n      <td>{\"function\": \"public void remove(CamelContext ...</td>\n      <td>{\"function\": \"public void remove(CamelContext ...</td>\n      <td>java:S1181\\n</td>\n      <td>9</td>\n    </tr>\n  </tbody>\n</table>\n<p>93 rows × 4 columns</p>\n</div>"
     },
     "execution_count": 30,
     "metadata": {},
     "output_type": "execute_result"
    }
   ],
   "source": [
    "df_filtered"
   ],
   "metadata": {
    "collapsed": false,
    "ExecuteTime": {
     "end_time": "2024-03-12T05:59:37.534906200Z",
     "start_time": "2024-03-12T05:59:37.477647700Z"
    }
   },
   "id": "ae191f6eb41e57b2"
  },
  {
   "cell_type": "code",
   "execution_count": null,
   "outputs": [],
   "source": [],
   "metadata": {
    "collapsed": false
   },
   "id": "10ac7ba621c8e053"
  }
 ],
 "metadata": {
  "kernelspec": {
   "display_name": "Python 3",
   "language": "python",
   "name": "python3"
  },
  "language_info": {
   "codemirror_mode": {
    "name": "ipython",
    "version": 2
   },
   "file_extension": ".py",
   "mimetype": "text/x-python",
   "name": "python",
   "nbconvert_exporter": "python",
   "pygments_lexer": "ipython2",
   "version": "2.7.6"
  }
 },
 "nbformat": 4,
 "nbformat_minor": 5
}
