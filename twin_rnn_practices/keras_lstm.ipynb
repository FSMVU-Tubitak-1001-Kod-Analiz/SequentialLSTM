{
 "cells": [
  {
   "cell_type": "markdown",
   "metadata": {},
   "source": [
    "## Imports"
   ]
  },
  {
   "cell_type": "code",
   "execution_count": 2,
   "metadata": {
    "ExecuteTime": {
     "end_time": "2024-03-11T11:54:08.249443Z",
     "start_time": "2024-03-11T11:53:59.847877100Z"
    }
   },
   "outputs": [
    {
     "name": "stderr",
     "output_type": "stream",
     "text": [
      "C:\\Users\\huday\\AppData\\Local\\Temp\\ipykernel_9812\\249373202.py:3: DeprecationWarning: \n",
      "Pyarrow will become a required dependency of pandas in the next major release of pandas (pandas 3.0),\n",
      "(to allow more performant data types, such as the Arrow string type, and better interoperability with other libraries)\n",
      "but was not found to be installed on your system.\n",
      "If this would cause problems for you,\n",
      "please provide us feedback at https://github.com/pandas-dev/pandas/issues/54466\n",
      "        \n",
      "  import pandas as pd\n"
     ]
    },
    {
     "name": "stdout",
     "output_type": "stream",
     "text": [
      "WARNING:tensorflow:From C:\\Users\\huday\\AppData\\Roaming\\Python\\Python311\\site-packages\\keras\\src\\losses.py:2976: The name tf.losses.sparse_softmax_cross_entropy is deprecated. Please use tf.compat.v1.losses.sparse_softmax_cross_entropy instead.\n"
     ]
    }
   ],
   "source": [
    "import torch\n",
    "import torch.nn as nn\n",
    "import pandas as pd\n",
    "import numpy as np\n",
    "import tensorflow as tf\n",
    "from sklearn.model_selection import train_test_split\n",
    "from tensorflow.keras.preprocessing.sequence import pad_sequences\n",
    "from tensorflow.keras.models import Sequential, Model\n",
    "from tensorflow.keras.layers import Dense, Embedding, LSTM, Input, Concatenate"
   ]
  },
  {
   "cell_type": "markdown",
   "metadata": {},
   "source": [
    "## Data"
   ]
  },
  {
   "cell_type": "code",
   "execution_count": 38,
   "metadata": {},
   "outputs": [
    {
     "data": {
      "text/plain": [
       "(80, 2)"
      ]
     },
     "execution_count": 38,
     "metadata": {},
     "output_type": "execute_result"
    }
   ],
   "source": [
    "df = pd.read_csv('./data.csv')\n",
    "data = df[['num1', 'num2']]\n",
    "label = df['label'].values\n",
    "\n",
    "data = data.values.reshape(400, 2)\n",
    "\n",
    "X_train, X_test, y_train, y_test = train_test_split(data, label, test_size=0.2, random_state=42)\n",
    "\"\"\"\n",
    "# Split the data into training and testing sets\n",
    "X_train = data[:, :320, :]  # Take first 320 samples for training\n",
    "X_test = data[:, 320:, :]  # Take last 80 samples for testing\n",
    "y_train = label[:320]  # Corresponding labels for training samples\n",
    "y_test = label[320:]  # Corresponding labels for testing samples\n",
    "\"\"\"\n",
    "X_test.shape"
   ]
  },
  {
   "cell_type": "markdown",
   "source": [
    "## History Data"
   ],
   "metadata": {
    "collapsed": false
   }
  },
  {
   "cell_type": "code",
   "execution_count": 5,
   "outputs": [
    {
     "name": "stdout",
     "output_type": "stream",
     "text": [
      "[ 0  6 19 19 12 12 21  5  5  5  6  0 17 13  0  0  0  0  0 16 11  7 16 16\n",
      "  0  0  7 20  0  8 25 25 26 25 25 25 25 25 25  3 26 25 26 25 26 25 25 25\n",
      " 25 25 25 25 25 25 25 25 25 25 25 25  4  2 10 22  9 23  9 18 23 23 22 23\n",
      " 23 23 23 23 11  9  9 23  3 23 22 23 25 23  9 23 24  9  9 23  1 24  1 24\n",
      " 24 22 22 23  9  9 23 22 13 23 23 10  9 23 23 23 23  9 24 24 10 23 24 23\n",
      " 23 11 23 15 23 23 23 23 23 23 23 24 23 24 14 23 24  9 22 10]\n",
      "torch.Size([140, 768]) torch.Size([140, 768]) (140,)\n"
     ]
    }
   ],
   "source": [
    "# Load embeddings (assuming they are already loaded)\n",
    "df_smell = pd.read_csv(\"./embeddings/Temp_smellKey-data_encoded.csv\")\n",
    "embeddings = torch.load('./embeddings/bert_old.pt')\n",
    "embeddings2 = torch.load('./embeddings/bert_fixed.pt')\n",
    "labels = df_smell['smellKey_encoded'].values\n",
    "print(labels)\n",
    "print(embeddings.shape, embeddings2.shape, labels.shape)\n",
    "# Combine embeddings into pairs\n",
    "X = torch.stack((embeddings, embeddings2), dim=1)  # Shape: (N, 2, 768)\n",
    "\n",
    "# Split into training and testing sets\n",
    "X_train, X_test, y_train, y_test = train_test_split(X, labels, test_size=0.2, random_state=42)\n"
   ],
   "metadata": {
    "collapsed": false,
    "ExecuteTime": {
     "end_time": "2024-03-11T11:54:53.686364700Z",
     "start_time": "2024-03-11T11:54:53.656287100Z"
    }
   }
  },
  {
   "cell_type": "code",
   "execution_count": 7,
   "metadata": {
    "ExecuteTime": {
     "end_time": "2024-03-11T11:55:37.842645300Z",
     "start_time": "2024-03-11T11:55:36.788481Z"
    }
   },
   "outputs": [
    {
     "name": "stdout",
     "output_type": "stream",
     "text": [
      "WARNING:tensorflow:From C:\\Users\\huday\\AppData\\Roaming\\Python\\Python311\\site-packages\\keras\\src\\backend.py:873: The name tf.get_default_graph is deprecated. Please use tf.compat.v1.get_default_graph instead.\n"
     ]
    }
   ],
   "source": [
    "model = Sequential()\n",
    "model.add(LSTM(32, input_shape=(140, 2)))\n",
    "model.add(Dense(1))"
   ]
  },
  {
   "cell_type": "markdown",
   "metadata": {},
   "source": []
  },
  {
   "cell_type": "code",
   "execution_count": 8,
   "metadata": {
    "ExecuteTime": {
     "end_time": "2024-03-11T11:55:39.484619200Z",
     "start_time": "2024-03-11T11:55:39.025799300Z"
    }
   },
   "outputs": [
    {
     "name": "stdout",
     "output_type": "stream",
     "text": [
      "WARNING:tensorflow:From C:\\Users\\huday\\AppData\\Roaming\\Python\\Python311\\site-packages\\keras\\src\\optimizers\\__init__.py:309: The name tf.train.Optimizer is deprecated. Please use tf.compat.v1.train.Optimizer instead.\n"
     ]
    },
    {
     "ename": "ValueError",
     "evalue": "`validation_split` is only supported for Tensors or NumPy arrays, found following types in the input: [<class 'torch.Tensor'>]",
     "output_type": "error",
     "traceback": [
      "\u001B[1;31m---------------------------------------------------------------------------\u001B[0m",
      "\u001B[1;31mValueError\u001B[0m                                Traceback (most recent call last)",
      "Cell \u001B[1;32mIn[8], line 5\u001B[0m\n\u001B[0;32m      2\u001B[0m model\u001B[38;5;241m.\u001B[39mcompile(optimizer\u001B[38;5;241m=\u001B[39m\u001B[38;5;124m'\u001B[39m\u001B[38;5;124madam\u001B[39m\u001B[38;5;124m'\u001B[39m, loss\u001B[38;5;241m=\u001B[39m\u001B[38;5;124m'\u001B[39m\u001B[38;5;124mbinary_crossentropy\u001B[39m\u001B[38;5;124m'\u001B[39m, metrics\u001B[38;5;241m=\u001B[39m[\u001B[38;5;124m'\u001B[39m\u001B[38;5;124maccuracy\u001B[39m\u001B[38;5;124m'\u001B[39m])\n\u001B[0;32m      4\u001B[0m \u001B[38;5;66;03m# Train the model\u001B[39;00m\n\u001B[1;32m----> 5\u001B[0m model\u001B[38;5;241m.\u001B[39mfit(X_train, y_train, epochs\u001B[38;5;241m=\u001B[39m\u001B[38;5;241m10\u001B[39m, batch_size\u001B[38;5;241m=\u001B[39m\u001B[38;5;241m64\u001B[39m, validation_split\u001B[38;5;241m=\u001B[39m\u001B[38;5;241m0.2\u001B[39m)\n\u001B[0;32m      7\u001B[0m \u001B[38;5;66;03m# Evaluate the model\u001B[39;00m\n\u001B[0;32m      8\u001B[0m loss, accuracy \u001B[38;5;241m=\u001B[39m model\u001B[38;5;241m.\u001B[39mevaluate(data, label\u001B[38;5;241m.\u001B[39mvalues)\n",
      "File \u001B[1;32m~\\AppData\\Roaming\\Python\\Python311\\site-packages\\keras\\src\\utils\\traceback_utils.py:70\u001B[0m, in \u001B[0;36mfilter_traceback.<locals>.error_handler\u001B[1;34m(*args, **kwargs)\u001B[0m\n\u001B[0;32m     67\u001B[0m     filtered_tb \u001B[38;5;241m=\u001B[39m _process_traceback_frames(e\u001B[38;5;241m.\u001B[39m__traceback__)\n\u001B[0;32m     68\u001B[0m     \u001B[38;5;66;03m# To get the full stack trace, call:\u001B[39;00m\n\u001B[0;32m     69\u001B[0m     \u001B[38;5;66;03m# `tf.debugging.disable_traceback_filtering()`\u001B[39;00m\n\u001B[1;32m---> 70\u001B[0m     \u001B[38;5;28;01mraise\u001B[39;00m e\u001B[38;5;241m.\u001B[39mwith_traceback(filtered_tb) \u001B[38;5;28;01mfrom\u001B[39;00m \u001B[38;5;28;01mNone\u001B[39;00m\n\u001B[0;32m     71\u001B[0m \u001B[38;5;28;01mfinally\u001B[39;00m:\n\u001B[0;32m     72\u001B[0m     \u001B[38;5;28;01mdel\u001B[39;00m filtered_tb\n",
      "File \u001B[1;32m~\\AppData\\Roaming\\Python\\Python311\\site-packages\\keras\\src\\engine\\data_adapter.py:1776\u001B[0m, in \u001B[0;36mtrain_validation_split\u001B[1;34m(arrays, validation_split)\u001B[0m\n\u001B[0;32m   1774\u001B[0m unsplitable \u001B[38;5;241m=\u001B[39m [\u001B[38;5;28mtype\u001B[39m(t) \u001B[38;5;28;01mfor\u001B[39;00m t \u001B[38;5;129;01min\u001B[39;00m flat_arrays \u001B[38;5;28;01mif\u001B[39;00m \u001B[38;5;129;01mnot\u001B[39;00m _can_split(t)]\n\u001B[0;32m   1775\u001B[0m \u001B[38;5;28;01mif\u001B[39;00m unsplitable:\n\u001B[1;32m-> 1776\u001B[0m     \u001B[38;5;28;01mraise\u001B[39;00m \u001B[38;5;167;01mValueError\u001B[39;00m(\n\u001B[0;32m   1777\u001B[0m         \u001B[38;5;124m\"\u001B[39m\u001B[38;5;124m`validation_split` is only supported for Tensors or NumPy \u001B[39m\u001B[38;5;124m\"\u001B[39m\n\u001B[0;32m   1778\u001B[0m         \u001B[38;5;124m\"\u001B[39m\u001B[38;5;124marrays, found following types in the input: \u001B[39m\u001B[38;5;132;01m{}\u001B[39;00m\u001B[38;5;124m\"\u001B[39m\u001B[38;5;241m.\u001B[39mformat(unsplitable)\n\u001B[0;32m   1779\u001B[0m     )\n\u001B[0;32m   1781\u001B[0m \u001B[38;5;28;01mif\u001B[39;00m \u001B[38;5;28mall\u001B[39m(t \u001B[38;5;129;01mis\u001B[39;00m \u001B[38;5;28;01mNone\u001B[39;00m \u001B[38;5;28;01mfor\u001B[39;00m t \u001B[38;5;129;01min\u001B[39;00m flat_arrays):\n\u001B[0;32m   1782\u001B[0m     \u001B[38;5;28;01mreturn\u001B[39;00m arrays, arrays\n",
      "\u001B[1;31mValueError\u001B[0m: `validation_split` is only supported for Tensors or NumPy arrays, found following types in the input: [<class 'torch.Tensor'>]"
     ]
    }
   ],
   "source": [
    "# Compile the model\n",
    "model.compile(optimizer='adam', loss='binary_crossentropy', metrics=['accuracy'])\n",
    "\n",
    "# Train the model\n",
    "model.fit(X_train, y_train, epochs=10, batch_size=64, validation_split=0.2)\n",
    "\n",
    "# Evaluate the model\n",
    "loss, accuracy = model.evaluate(data, label.values)\n",
    "print(\"Test Accuracy:\", accuracy)"
   ]
  },
  {
   "cell_type": "code",
   "execution_count": 61,
   "metadata": {},
   "outputs": [
    {
     "name": "stdout",
     "output_type": "stream",
     "text": [
      "Epoch 1/25\n",
      "13/13 [==============================] - 2s 40ms/step - loss: 0.7000 - accuracy: 0.6641 - val_loss: 0.6777 - val_accuracy: 0.6719\n",
      "Epoch 2/25\n",
      "13/13 [==============================] - 0s 5ms/step - loss: 0.6453 - accuracy: 0.6914 - val_loss: 0.6435 - val_accuracy: 0.6562\n",
      "Epoch 3/25\n",
      "13/13 [==============================] - 0s 5ms/step - loss: 0.6219 - accuracy: 0.6797 - val_loss: 0.6135 - val_accuracy: 0.6562\n",
      "Epoch 4/25\n",
      "13/13 [==============================] - 0s 6ms/step - loss: 0.5943 - accuracy: 0.6797 - val_loss: 0.5944 - val_accuracy: 0.6562\n",
      "Epoch 5/25\n",
      "13/13 [==============================] - 0s 5ms/step - loss: 0.5755 - accuracy: 0.6875 - val_loss: 0.5734 - val_accuracy: 0.6719\n",
      "Epoch 6/25\n",
      "13/13 [==============================] - 0s 5ms/step - loss: 0.5569 - accuracy: 0.6992 - val_loss: 0.5556 - val_accuracy: 0.6875\n",
      "Epoch 7/25\n",
      "13/13 [==============================] - 0s 6ms/step - loss: 0.5479 - accuracy: 0.6953 - val_loss: 0.5362 - val_accuracy: 0.6875\n",
      "Epoch 8/25\n",
      "13/13 [==============================] - 0s 5ms/step - loss: 0.5291 - accuracy: 0.7109 - val_loss: 0.5184 - val_accuracy: 0.6875\n",
      "Epoch 9/25\n",
      "13/13 [==============================] - 0s 6ms/step - loss: 0.5131 - accuracy: 0.7109 - val_loss: 0.5097 - val_accuracy: 0.6875\n",
      "Epoch 10/25\n",
      "13/13 [==============================] - 0s 5ms/step - loss: 0.5000 - accuracy: 0.7109 - val_loss: 0.4862 - val_accuracy: 0.6875\n",
      "Epoch 11/25\n",
      "13/13 [==============================] - 0s 5ms/step - loss: 0.4921 - accuracy: 0.7344 - val_loss: 0.4793 - val_accuracy: 0.6875\n",
      "Epoch 12/25\n",
      "13/13 [==============================] - 0s 5ms/step - loss: 0.4759 - accuracy: 0.7227 - val_loss: 0.4594 - val_accuracy: 0.7188\n",
      "Epoch 13/25\n",
      "13/13 [==============================] - 0s 5ms/step - loss: 0.4639 - accuracy: 0.7734 - val_loss: 0.4364 - val_accuracy: 0.7344\n",
      "Epoch 14/25\n",
      "13/13 [==============================] - 0s 5ms/step - loss: 0.4414 - accuracy: 0.7539 - val_loss: 0.4199 - val_accuracy: 0.7344\n",
      "Epoch 15/25\n",
      "13/13 [==============================] - 0s 5ms/step - loss: 0.4297 - accuracy: 0.7852 - val_loss: 0.4130 - val_accuracy: 0.7188\n",
      "Epoch 16/25\n",
      "13/13 [==============================] - 0s 8ms/step - loss: 0.4129 - accuracy: 0.7734 - val_loss: 0.3788 - val_accuracy: 0.7656\n",
      "Epoch 17/25\n",
      "13/13 [==============================] - 0s 5ms/step - loss: 0.3909 - accuracy: 0.7852 - val_loss: 0.3674 - val_accuracy: 0.7656\n",
      "Epoch 18/25\n",
      "13/13 [==============================] - 0s 5ms/step - loss: 0.3804 - accuracy: 0.7930 - val_loss: 0.3530 - val_accuracy: 0.7812\n",
      "Epoch 19/25\n",
      "13/13 [==============================] - 0s 6ms/step - loss: 0.3653 - accuracy: 0.8164 - val_loss: 0.3444 - val_accuracy: 0.8438\n",
      "Epoch 20/25\n",
      "13/13 [==============================] - 0s 5ms/step - loss: 0.3508 - accuracy: 0.8086 - val_loss: 0.3303 - val_accuracy: 0.8125\n",
      "Epoch 21/25\n",
      "13/13 [==============================] - 0s 5ms/step - loss: 0.3420 - accuracy: 0.8320 - val_loss: 0.3403 - val_accuracy: 0.7656\n",
      "Epoch 22/25\n",
      "13/13 [==============================] - 0s 5ms/step - loss: 0.3327 - accuracy: 0.8047 - val_loss: 0.3117 - val_accuracy: 0.8438\n",
      "Epoch 23/25\n",
      "13/13 [==============================] - 0s 5ms/step - loss: 0.3267 - accuracy: 0.8125 - val_loss: 0.2990 - val_accuracy: 0.8750\n",
      "Epoch 24/25\n",
      "13/13 [==============================] - 0s 5ms/step - loss: 0.3136 - accuracy: 0.8633 - val_loss: 0.3172 - val_accuracy: 0.7656\n",
      "Epoch 25/25\n",
      "13/13 [==============================] - 0s 5ms/step - loss: 0.2984 - accuracy: 0.8359 - val_loss: 0.2786 - val_accuracy: 0.9219\n",
      "3/3 [==============================] - 0s 3ms/step - loss: 0.2892 - accuracy: 0.8875\n",
      "Test Accuracy: 0.887499988079071\n"
     ]
    }
   ],
   "source": [
    "import pandas as pd\n",
    "from sklearn.model_selection import train_test_split\n",
    "from tensorflow.keras.models import Sequential\n",
    "from tensorflow.keras.layers import LSTM, Dense\n",
    "\n",
    "# Read the CSV file into a DataFrame\n",
    "df = pd.read_csv('./data.csv')\n",
    "\n",
    "# Extract features and labels\n",
    "data = df[['num1', 'num2']]\n",
    "label = df['label'].values\n",
    "                    #data size,time step ,number of feature each step\n",
    "data = data.values.reshape(140, 2, 1)\n",
    "#400,2,1\n",
    "\n",
    "X_train, X_test, y_train, y_test = train_test_split(data, label, test_size=0.2, random_state=42)\n",
    "\n",
    "model = Sequential()\n",
    "model.add(LSTM(32, input_shape=(2, 1)))\n",
    "model.add(Dense(1))\n",
    "\n",
    "# Compile the model\n",
    "model.compile(optimizer='adam', loss='binary_crossentropy', metrics=['accuracy'])\n",
    "\n",
    "# Train the model\n",
    "model.fit(X_train, y_train, epochs=25, batch_size=20, validation_split=0.2)\n",
    "\n",
    "# Evaluate the model\n",
    "loss, accuracy = model.evaluate(X_test, y_test)\n",
    "print(\"Test Accuracy:\", accuracy)\n"
   ]
  },
  {
   "cell_type": "markdown",
   "metadata": {},
   "source": []
  },
  {
   "cell_type": "code",
   "execution_count": 10,
   "metadata": {
    "ExecuteTime": {
     "end_time": "2024-03-11T11:59:41.346418700Z",
     "start_time": "2024-03-11T11:59:26.514407Z"
    }
   },
   "outputs": [
    {
     "name": "stdout",
     "output_type": "stream",
     "text": [
      "Epoch 1/100\n",
      "WARNING:tensorflow:From C:\\Users\\huday\\AppData\\Roaming\\Python\\Python311\\site-packages\\keras\\src\\utils\\tf_utils.py:492: The name tf.ragged.RaggedTensorValue is deprecated. Please use tf.compat.v1.ragged.RaggedTensorValue instead.\n",
      "WARNING:tensorflow:From C:\\Users\\huday\\AppData\\Roaming\\Python\\Python311\\site-packages\\keras\\src\\engine\\base_layer_utils.py:384: The name tf.executing_eagerly_outside_functions is deprecated. Please use tf.compat.v1.executing_eagerly_outside_functions instead.\n",
      "13/13 [==============================] - 3s 48ms/step - loss: 2.5268 - accuracy: 0.3281 - val_loss: 1.0336 - val_accuracy: 0.3438\n",
      "Epoch 2/100\n",
      "13/13 [==============================] - 0s 8ms/step - loss: 0.8657 - accuracy: 0.3320 - val_loss: 0.7406 - val_accuracy: 0.5156\n",
      "Epoch 3/100\n",
      "13/13 [==============================] - 0s 8ms/step - loss: 0.7111 - accuracy: 0.6094 - val_loss: 0.7022 - val_accuracy: 0.5938\n",
      "Epoch 4/100\n",
      "13/13 [==============================] - 0s 8ms/step - loss: 0.6900 - accuracy: 0.6211 - val_loss: 0.7041 - val_accuracy: 0.6250\n",
      "Epoch 5/100\n",
      "13/13 [==============================] - 0s 9ms/step - loss: 0.6837 - accuracy: 0.6289 - val_loss: 0.6914 - val_accuracy: 0.6250\n",
      "Epoch 6/100\n",
      "13/13 [==============================] - 0s 8ms/step - loss: 0.6754 - accuracy: 0.6289 - val_loss: 0.6831 - val_accuracy: 0.6250\n",
      "Epoch 7/100\n",
      "13/13 [==============================] - 0s 8ms/step - loss: 0.6685 - accuracy: 0.6289 - val_loss: 0.6741 - val_accuracy: 0.6250\n",
      "Epoch 8/100\n",
      "13/13 [==============================] - 0s 7ms/step - loss: 0.6612 - accuracy: 0.6367 - val_loss: 0.6684 - val_accuracy: 0.6250\n",
      "Epoch 9/100\n",
      "13/13 [==============================] - 0s 7ms/step - loss: 0.6558 - accuracy: 0.6367 - val_loss: 0.6612 - val_accuracy: 0.6250\n",
      "Epoch 10/100\n",
      "13/13 [==============================] - 0s 8ms/step - loss: 0.6492 - accuracy: 0.6406 - val_loss: 0.6566 - val_accuracy: 0.6250\n",
      "Epoch 11/100\n",
      "13/13 [==============================] - 0s 7ms/step - loss: 0.6420 - accuracy: 0.6484 - val_loss: 0.6461 - val_accuracy: 0.6406\n",
      "Epoch 12/100\n",
      "13/13 [==============================] - 0s 7ms/step - loss: 0.6318 - accuracy: 0.6602 - val_loss: 0.6375 - val_accuracy: 0.6719\n",
      "Epoch 13/100\n",
      "13/13 [==============================] - 0s 8ms/step - loss: 0.6202 - accuracy: 0.6836 - val_loss: 0.6269 - val_accuracy: 0.6719\n",
      "Epoch 14/100\n",
      "13/13 [==============================] - 0s 8ms/step - loss: 0.6115 - accuracy: 0.6914 - val_loss: 0.6158 - val_accuracy: 0.6719\n",
      "Epoch 15/100\n",
      "13/13 [==============================] - 0s 8ms/step - loss: 0.6027 - accuracy: 0.6992 - val_loss: 0.6056 - val_accuracy: 0.6719\n",
      "Epoch 16/100\n",
      "13/13 [==============================] - 0s 9ms/step - loss: 0.5947 - accuracy: 0.6992 - val_loss: 0.5933 - val_accuracy: 0.6719\n",
      "Epoch 17/100\n",
      "13/13 [==============================] - 0s 8ms/step - loss: 0.5822 - accuracy: 0.6992 - val_loss: 0.5822 - val_accuracy: 0.6719\n",
      "Epoch 18/100\n",
      "13/13 [==============================] - 0s 8ms/step - loss: 0.5687 - accuracy: 0.6992 - val_loss: 0.5664 - val_accuracy: 0.6719\n",
      "Epoch 19/100\n",
      "13/13 [==============================] - 0s 8ms/step - loss: 0.5536 - accuracy: 0.6992 - val_loss: 0.5504 - val_accuracy: 0.6719\n",
      "Epoch 20/100\n",
      "13/13 [==============================] - 0s 8ms/step - loss: 0.5405 - accuracy: 0.6992 - val_loss: 0.5354 - val_accuracy: 0.6719\n",
      "Epoch 21/100\n",
      "13/13 [==============================] - 0s 8ms/step - loss: 0.5322 - accuracy: 0.7031 - val_loss: 0.5243 - val_accuracy: 0.6719\n",
      "Epoch 22/100\n",
      "13/13 [==============================] - 0s 9ms/step - loss: 0.5235 - accuracy: 0.6992 - val_loss: 0.5198 - val_accuracy: 0.6875\n",
      "Epoch 23/100\n",
      "13/13 [==============================] - 0s 9ms/step - loss: 0.5156 - accuracy: 0.7031 - val_loss: 0.5117 - val_accuracy: 0.6875\n",
      "Epoch 24/100\n",
      "13/13 [==============================] - 0s 8ms/step - loss: 0.5098 - accuracy: 0.7109 - val_loss: 0.5062 - val_accuracy: 0.6875\n",
      "Epoch 25/100\n",
      "13/13 [==============================] - 0s 8ms/step - loss: 0.5012 - accuracy: 0.7109 - val_loss: 0.4959 - val_accuracy: 0.6875\n",
      "Epoch 26/100\n",
      "13/13 [==============================] - 0s 8ms/step - loss: 0.4957 - accuracy: 0.7305 - val_loss: 0.4866 - val_accuracy: 0.7031\n",
      "Epoch 27/100\n",
      "13/13 [==============================] - 0s 8ms/step - loss: 0.4879 - accuracy: 0.7148 - val_loss: 0.4823 - val_accuracy: 0.6875\n",
      "Epoch 28/100\n",
      "13/13 [==============================] - 0s 9ms/step - loss: 0.4856 - accuracy: 0.7344 - val_loss: 0.4688 - val_accuracy: 0.7031\n",
      "Epoch 29/100\n",
      "13/13 [==============================] - 0s 9ms/step - loss: 0.4778 - accuracy: 0.7148 - val_loss: 0.4727 - val_accuracy: 0.6875\n",
      "Epoch 30/100\n",
      "13/13 [==============================] - 0s 8ms/step - loss: 0.4637 - accuracy: 0.7461 - val_loss: 0.4571 - val_accuracy: 0.7188\n",
      "Epoch 31/100\n",
      "13/13 [==============================] - 0s 9ms/step - loss: 0.4600 - accuracy: 0.7500 - val_loss: 0.4484 - val_accuracy: 0.7188\n",
      "Epoch 32/100\n",
      "13/13 [==============================] - 0s 9ms/step - loss: 0.4518 - accuracy: 0.7617 - val_loss: 0.4452 - val_accuracy: 0.7656\n",
      "Epoch 33/100\n",
      "13/13 [==============================] - 0s 9ms/step - loss: 0.4422 - accuracy: 0.7734 - val_loss: 0.4372 - val_accuracy: 0.7188\n",
      "Epoch 34/100\n",
      "13/13 [==============================] - 0s 9ms/step - loss: 0.4325 - accuracy: 0.7656 - val_loss: 0.4266 - val_accuracy: 0.7344\n",
      "Epoch 35/100\n",
      "13/13 [==============================] - 0s 8ms/step - loss: 0.4296 - accuracy: 0.7773 - val_loss: 0.4258 - val_accuracy: 0.7344\n",
      "Epoch 36/100\n",
      "13/13 [==============================] - 0s 8ms/step - loss: 0.4159 - accuracy: 0.7773 - val_loss: 0.4078 - val_accuracy: 0.7656\n",
      "Epoch 37/100\n",
      "13/13 [==============================] - 0s 8ms/step - loss: 0.4066 - accuracy: 0.7812 - val_loss: 0.4019 - val_accuracy: 0.7656\n",
      "Epoch 38/100\n",
      "13/13 [==============================] - 0s 9ms/step - loss: 0.4052 - accuracy: 0.7891 - val_loss: 0.3913 - val_accuracy: 0.7500\n",
      "Epoch 39/100\n",
      "13/13 [==============================] - 0s 9ms/step - loss: 0.4040 - accuracy: 0.7812 - val_loss: 0.3920 - val_accuracy: 0.8281\n",
      "Epoch 40/100\n",
      "13/13 [==============================] - 0s 8ms/step - loss: 0.3807 - accuracy: 0.8164 - val_loss: 0.3757 - val_accuracy: 0.7656\n",
      "Epoch 41/100\n",
      "13/13 [==============================] - 0s 8ms/step - loss: 0.3898 - accuracy: 0.7734 - val_loss: 0.3728 - val_accuracy: 0.8281\n",
      "Epoch 42/100\n",
      "13/13 [==============================] - 0s 8ms/step - loss: 0.3733 - accuracy: 0.8008 - val_loss: 0.3522 - val_accuracy: 0.7656\n",
      "Epoch 43/100\n",
      "13/13 [==============================] - 0s 9ms/step - loss: 0.3598 - accuracy: 0.8008 - val_loss: 0.3405 - val_accuracy: 0.7656\n",
      "Epoch 44/100\n",
      "13/13 [==============================] - 0s 8ms/step - loss: 0.3501 - accuracy: 0.8086 - val_loss: 0.3321 - val_accuracy: 0.8438\n",
      "Epoch 45/100\n",
      "13/13 [==============================] - 0s 8ms/step - loss: 0.3448 - accuracy: 0.8125 - val_loss: 0.3681 - val_accuracy: 0.7500\n",
      "Epoch 46/100\n",
      "13/13 [==============================] - 0s 9ms/step - loss: 0.3354 - accuracy: 0.8086 - val_loss: 0.3517 - val_accuracy: 0.8438\n",
      "Epoch 47/100\n",
      "13/13 [==============================] - 0s 8ms/step - loss: 0.3324 - accuracy: 0.8242 - val_loss: 0.3288 - val_accuracy: 0.7656\n",
      "Epoch 48/100\n",
      "13/13 [==============================] - 0s 8ms/step - loss: 0.3199 - accuracy: 0.8086 - val_loss: 0.3035 - val_accuracy: 0.8438\n",
      "Epoch 49/100\n",
      "13/13 [==============================] - 0s 9ms/step - loss: 0.3300 - accuracy: 0.8555 - val_loss: 0.3102 - val_accuracy: 0.7656\n",
      "Epoch 50/100\n",
      "13/13 [==============================] - 0s 8ms/step - loss: 0.3188 - accuracy: 0.8086 - val_loss: 0.2998 - val_accuracy: 0.7812\n",
      "Epoch 51/100\n",
      "13/13 [==============================] - 0s 7ms/step - loss: 0.3055 - accuracy: 0.8320 - val_loss: 0.2868 - val_accuracy: 0.8125\n",
      "Epoch 52/100\n",
      "13/13 [==============================] - 0s 9ms/step - loss: 0.2959 - accuracy: 0.8281 - val_loss: 0.2816 - val_accuracy: 0.8281\n",
      "Epoch 53/100\n",
      "13/13 [==============================] - 0s 9ms/step - loss: 0.2945 - accuracy: 0.8477 - val_loss: 0.2905 - val_accuracy: 0.7969\n",
      "Epoch 54/100\n",
      "13/13 [==============================] - 0s 8ms/step - loss: 0.3018 - accuracy: 0.8594 - val_loss: 0.2881 - val_accuracy: 0.7812\n",
      "Epoch 55/100\n",
      "13/13 [==============================] - 0s 7ms/step - loss: 0.2894 - accuracy: 0.8477 - val_loss: 0.2644 - val_accuracy: 0.9375\n",
      "Epoch 56/100\n",
      "13/13 [==============================] - 0s 8ms/step - loss: 0.2808 - accuracy: 0.8867 - val_loss: 0.2817 - val_accuracy: 0.7812\n",
      "Epoch 57/100\n",
      "13/13 [==============================] - 0s 8ms/step - loss: 0.2768 - accuracy: 0.8477 - val_loss: 0.2577 - val_accuracy: 0.9375\n",
      "Epoch 58/100\n",
      "13/13 [==============================] - 0s 9ms/step - loss: 0.2674 - accuracy: 0.8672 - val_loss: 0.2592 - val_accuracy: 0.8438\n",
      "Epoch 59/100\n",
      "13/13 [==============================] - 0s 8ms/step - loss: 0.2613 - accuracy: 0.9102 - val_loss: 0.2527 - val_accuracy: 0.9219\n",
      "Epoch 60/100\n",
      "13/13 [==============================] - 0s 9ms/step - loss: 0.2596 - accuracy: 0.8789 - val_loss: 0.2471 - val_accuracy: 0.9375\n",
      "Epoch 61/100\n",
      "13/13 [==============================] - 0s 8ms/step - loss: 0.2521 - accuracy: 0.8945 - val_loss: 0.2403 - val_accuracy: 0.9219\n",
      "Epoch 62/100\n",
      "13/13 [==============================] - 0s 8ms/step - loss: 0.2494 - accuracy: 0.9297 - val_loss: 0.2354 - val_accuracy: 0.9375\n",
      "Epoch 63/100\n",
      "13/13 [==============================] - 0s 9ms/step - loss: 0.2451 - accuracy: 0.9023 - val_loss: 0.2303 - val_accuracy: 0.9375\n",
      "Epoch 64/100\n",
      "13/13 [==============================] - 0s 9ms/step - loss: 0.2379 - accuracy: 0.9258 - val_loss: 0.2206 - val_accuracy: 0.9688\n",
      "Epoch 65/100\n",
      "13/13 [==============================] - 0s 8ms/step - loss: 0.2414 - accuracy: 0.8906 - val_loss: 0.2402 - val_accuracy: 0.8594\n",
      "Epoch 66/100\n",
      "13/13 [==============================] - 0s 8ms/step - loss: 0.2380 - accuracy: 0.9258 - val_loss: 0.2224 - val_accuracy: 0.9219\n",
      "Epoch 67/100\n",
      "13/13 [==============================] - 0s 9ms/step - loss: 0.2259 - accuracy: 0.9531 - val_loss: 0.2136 - val_accuracy: 0.9531\n",
      "Epoch 68/100\n",
      "13/13 [==============================] - 0s 9ms/step - loss: 0.2235 - accuracy: 0.9336 - val_loss: 0.2087 - val_accuracy: 0.9531\n",
      "Epoch 69/100\n",
      "13/13 [==============================] - 0s 8ms/step - loss: 0.2313 - accuracy: 0.9414 - val_loss: 0.2227 - val_accuracy: 0.9375\n",
      "Epoch 70/100\n",
      "13/13 [==============================] - 0s 8ms/step - loss: 0.2104 - accuracy: 0.9258 - val_loss: 0.2009 - val_accuracy: 0.9531\n",
      "Epoch 71/100\n",
      "13/13 [==============================] - 0s 8ms/step - loss: 0.2123 - accuracy: 0.9219 - val_loss: 0.2237 - val_accuracy: 0.9062\n",
      "Epoch 72/100\n",
      "13/13 [==============================] - 0s 8ms/step - loss: 0.2013 - accuracy: 0.9570 - val_loss: 0.2004 - val_accuracy: 0.9688\n",
      "Epoch 73/100\n",
      "13/13 [==============================] - 0s 8ms/step - loss: 0.2036 - accuracy: 0.9648 - val_loss: 0.1947 - val_accuracy: 0.9844\n",
      "Epoch 74/100\n",
      "13/13 [==============================] - 0s 9ms/step - loss: 0.1931 - accuracy: 0.9805 - val_loss: 0.1974 - val_accuracy: 0.9531\n",
      "Epoch 75/100\n",
      "13/13 [==============================] - 0s 8ms/step - loss: 0.1898 - accuracy: 0.9688 - val_loss: 0.1929 - val_accuracy: 0.9219\n",
      "Epoch 76/100\n",
      "13/13 [==============================] - 0s 9ms/step - loss: 0.1901 - accuracy: 0.9453 - val_loss: 0.1884 - val_accuracy: 0.9531\n",
      "Epoch 77/100\n",
      "13/13 [==============================] - 0s 7ms/step - loss: 0.1851 - accuracy: 0.9688 - val_loss: 0.2110 - val_accuracy: 0.9219\n",
      "Epoch 78/100\n",
      "13/13 [==============================] - 0s 8ms/step - loss: 0.2179 - accuracy: 0.9258 - val_loss: 0.2497 - val_accuracy: 0.8906\n",
      "Epoch 79/100\n",
      "13/13 [==============================] - 0s 8ms/step - loss: 0.6043 - accuracy: 0.8242 - val_loss: 0.2793 - val_accuracy: 0.8438\n",
      "Epoch 80/100\n",
      "13/13 [==============================] - 0s 8ms/step - loss: 0.6606 - accuracy: 0.8789 - val_loss: 0.2717 - val_accuracy: 0.8750\n",
      "Epoch 81/100\n",
      "13/13 [==============================] - 0s 9ms/step - loss: 0.2727 - accuracy: 0.8555 - val_loss: 0.2083 - val_accuracy: 0.9531\n",
      "Epoch 82/100\n",
      "13/13 [==============================] - 0s 8ms/step - loss: 0.2154 - accuracy: 0.9336 - val_loss: 0.1808 - val_accuracy: 0.9688\n",
      "Epoch 83/100\n",
      "13/13 [==============================] - 0s 7ms/step - loss: 0.1961 - accuracy: 0.9336 - val_loss: 0.1849 - val_accuracy: 0.9531\n",
      "Epoch 84/100\n",
      "13/13 [==============================] - 0s 7ms/step - loss: 0.1838 - accuracy: 0.9531 - val_loss: 0.1723 - val_accuracy: 0.9844\n",
      "Epoch 85/100\n",
      "13/13 [==============================] - 0s 8ms/step - loss: 0.1776 - accuracy: 0.9688 - val_loss: 0.1693 - val_accuracy: 1.0000\n",
      "Epoch 86/100\n",
      "13/13 [==============================] - 0s 9ms/step - loss: 0.1738 - accuracy: 0.9648 - val_loss: 0.1705 - val_accuracy: 0.9844\n",
      "Epoch 87/100\n",
      "13/13 [==============================] - 0s 8ms/step - loss: 0.1713 - accuracy: 0.9609 - val_loss: 0.1679 - val_accuracy: 0.9688\n",
      "Epoch 88/100\n",
      "13/13 [==============================] - 0s 9ms/step - loss: 0.1705 - accuracy: 0.9570 - val_loss: 0.1683 - val_accuracy: 0.9844\n",
      "Epoch 89/100\n",
      "13/13 [==============================] - 0s 8ms/step - loss: 0.1679 - accuracy: 0.9492 - val_loss: 0.1619 - val_accuracy: 1.0000\n",
      "Epoch 90/100\n",
      "13/13 [==============================] - 0s 8ms/step - loss: 0.1898 - accuracy: 0.9297 - val_loss: 0.1647 - val_accuracy: 0.8906\n",
      "Epoch 91/100\n",
      "13/13 [==============================] - 0s 8ms/step - loss: 0.1797 - accuracy: 0.9570 - val_loss: 0.2168 - val_accuracy: 0.9219\n",
      "Epoch 92/100\n",
      "13/13 [==============================] - 0s 8ms/step - loss: 0.1865 - accuracy: 0.9375 - val_loss: 0.1547 - val_accuracy: 0.9375\n",
      "Epoch 93/100\n",
      "13/13 [==============================] - 0s 8ms/step - loss: 0.1768 - accuracy: 0.9453 - val_loss: 0.1720 - val_accuracy: 0.9375\n",
      "Epoch 94/100\n",
      "13/13 [==============================] - 0s 8ms/step - loss: 0.1563 - accuracy: 0.9727 - val_loss: 0.1536 - val_accuracy: 0.9844\n",
      "Epoch 95/100\n",
      "13/13 [==============================] - 0s 8ms/step - loss: 0.1552 - accuracy: 0.9688 - val_loss: 0.1594 - val_accuracy: 0.9844\n",
      "Epoch 96/100\n",
      "13/13 [==============================] - 0s 8ms/step - loss: 0.1483 - accuracy: 0.9609 - val_loss: 0.1537 - val_accuracy: 0.9844\n",
      "Epoch 97/100\n",
      "13/13 [==============================] - 0s 7ms/step - loss: 0.1483 - accuracy: 0.9727 - val_loss: 0.1537 - val_accuracy: 0.9844\n",
      "Epoch 98/100\n",
      "13/13 [==============================] - 0s 7ms/step - loss: 0.1471 - accuracy: 0.9570 - val_loss: 0.1498 - val_accuracy: 0.9844\n",
      "Epoch 99/100\n",
      "13/13 [==============================] - 0s 7ms/step - loss: 0.1508 - accuracy: 0.9414 - val_loss: 0.1463 - val_accuracy: 0.9219\n",
      "Epoch 100/100\n",
      "13/13 [==============================] - 0s 7ms/step - loss: 0.1434 - accuracy: 0.9609 - val_loss: 0.1505 - val_accuracy: 0.9844\n",
      "3/3 [==============================] - 0s 4ms/step - loss: 0.1371 - accuracy: 0.9625\n",
      "Test Accuracy: 0.9624999761581421\n"
     ]
    }
   ],
   "source": [
    "import pandas as pd\n",
    "from sklearn.model_selection import train_test_split\n",
    "from tensorflow.keras.models import Sequential\n",
    "from tensorflow.keras.layers import LSTM, Dense,Softmax\n",
    "\n",
    "# Read the CSV file into a DataFrame\n",
    "df = pd.read_csv('./data.csv')\n",
    "\n",
    "# Extract features and labels\n",
    "data = df[['num1', 'num2']]\n",
    "label = df['label'].values\n",
    "                    #data size,time step ,number of feature each step\n",
    "data = data.values.reshape(400, 2, 1)\n",
    "#400,2,1\n",
    "\n",
    "X_train, X_test, y_train, y_test = train_test_split(data, label, test_size=0.2, random_state=42)\n",
    "\n",
    "model = Sequential()\n",
    "model.add(LSTM(32, input_shape=(2, 1)))\n",
    "model.add(Dense(1))\n",
    "model.add(Dense(units=1, activation='ReLU'))\n",
    "\n",
    "# Compile the model\n",
    "model.compile(optimizer='adam', loss='binary_crossentropy', metrics=['accuracy'])\n",
    "\n",
    "# Train the model\n",
    "model.fit(X_train, y_train, epochs=100, batch_size=20, validation_split=0.2)\n",
    "\n",
    "# Evaluate the model\n",
    "loss, accuracy = model.evaluate(X_test, y_test)\n",
    "print(\"Test Accuracy:\", accuracy)"
   ]
  },
  {
   "cell_type": "code",
   "execution_count": 11,
   "metadata": {
    "ExecuteTime": {
     "end_time": "2024-03-11T11:59:41.381221500Z",
     "start_time": "2024-03-11T11:59:41.349347100Z"
    }
   },
   "outputs": [
    {
     "data": {
      "text/plain": "0       0\n1       6\n2      19\n3      19\n4      12\n       ..\n135    23\n136    24\n137     9\n138    22\n139    10\nName: smellKey_encoded, Length: 140, dtype: int64"
     },
     "execution_count": 11,
     "metadata": {},
     "output_type": "execute_result"
    }
   ],
   "source": [
    "df = pd.read_csv('./embeddings/Temp_smellKey-data_encoded.csv')\n",
    "message_encoded = df['smellKey_encoded']\n",
    "#save pt file   \n",
    "torch.save(message_encoded, 'message_encoded.pt')\n",
    "#load pt file\n",
    "message_encoded = torch.load('message_encoded.pt')\n",
    "message_encoded"
   ]
  },
  {
   "cell_type": "code",
   "execution_count": 13,
   "metadata": {
    "ExecuteTime": {
     "end_time": "2024-03-11T12:00:05.418247600Z",
     "start_time": "2024-03-11T12:00:05.385998Z"
    }
   },
   "outputs": [],
   "source": [
    "# Combine the embeddings and encoded messages into a DataFrame\n",
    "import torch\n",
    "import numpy as np\n",
    "embeddings = torch.load('embeddings/bert_old.pt')\n",
    "embeddings2 = torch.load('embeddings/bert_old.pt')\n",
    "embeddings3 = torch.load('embeddings/bert_fixed.pt')\n",
    "data = pd.DataFrame({\n",
    "    'fixdd_embeddings.pt': embeddings3.tolist(),\n",
    "    'old_embeddings.pt': embeddings2.tolist(),\n",
    "    'smellKey_encoded': message_encoded\n",
    "})\n"
   ]
  },
  {
   "cell_type": "code",
   "execution_count": 14,
   "metadata": {
    "ExecuteTime": {
     "end_time": "2024-03-11T12:01:12.784829Z",
     "start_time": "2024-03-11T12:01:12.764387600Z"
    }
   },
   "outputs": [
    {
     "data": {
      "text/plain": "(140, 1536)"
     },
     "execution_count": 14,
     "metadata": {},
     "output_type": "execute_result"
    }
   ],
   "source": [
    "x1 =np.vstack(data['fixdd_embeddings.pt'])\n",
    "x2= np.vstack(data['old_embeddings.pt'])\n",
    "X = np.concatenate((x1, x2), axis=1)\n",
    "X.shape"
   ]
  },
  {
   "cell_type": "code",
   "execution_count": 15,
   "metadata": {
    "ExecuteTime": {
     "end_time": "2024-03-11T12:01:24.162175500Z",
     "start_time": "2024-03-11T12:01:24.143717Z"
    }
   },
   "outputs": [],
   "source": [
    "\n",
    "# Split the data into features (embeddings) and labels (messages) tensor\n",
    "\n",
    "y = (data['smellKey_encoded'])\n",
    "X= X.reshape(140, 1, 1536)\n",
    "\n",
    "tensor = tf.convert_to_tensor(X, dtype=tf.float32)\n",
    "\n",
    "\n",
    "# Split the data into training and testing sets\n",
    "X_train, X_test, y_train, y_test = train_test_split(X, y, test_size=0.2, random_state=42)\n",
    "\n"
   ]
  },
  {
   "cell_type": "code",
   "execution_count": 16,
   "metadata": {
    "ExecuteTime": {
     "end_time": "2024-03-11T12:01:43.836108300Z",
     "start_time": "2024-03-11T12:01:27.666369Z"
    }
   },
   "outputs": [
    {
     "name": "stdout",
     "output_type": "stream",
     "text": [
      "Epoch 1/50\n",
      "5/5 [==============================] - 3s 176ms/step - loss: 0.7056 - accuracy: 0.0112 - val_loss: 0.6163 - val_accuracy: 0.0435\n",
      "Epoch 2/50\n",
      "5/5 [==============================] - 0s 51ms/step - loss: 0.5785 - accuracy: 0.0112 - val_loss: 0.5396 - val_accuracy: 0.0435\n",
      "Epoch 3/50\n",
      "5/5 [==============================] - 0s 50ms/step - loss: 0.4927 - accuracy: 0.0112 - val_loss: 0.4636 - val_accuracy: 0.0435\n",
      "Epoch 4/50\n",
      "5/5 [==============================] - 0s 51ms/step - loss: 0.4077 - accuracy: 0.0112 - val_loss: 0.3880 - val_accuracy: 0.0435\n",
      "Epoch 5/50\n",
      "5/5 [==============================] - 0s 50ms/step - loss: 0.3208 - accuracy: 0.0112 - val_loss: 0.3129 - val_accuracy: 0.0435\n",
      "Epoch 6/50\n",
      "5/5 [==============================] - 0s 52ms/step - loss: 0.2380 - accuracy: 0.0112 - val_loss: 0.2367 - val_accuracy: 0.0435\n",
      "Epoch 7/50\n",
      "5/5 [==============================] - 0s 52ms/step - loss: 0.1525 - accuracy: 0.0112 - val_loss: 0.1598 - val_accuracy: 0.0435\n",
      "Epoch 8/50\n",
      "5/5 [==============================] - 0s 52ms/step - loss: 0.0657 - accuracy: 0.0112 - val_loss: 0.0833 - val_accuracy: 0.0435\n",
      "Epoch 9/50\n",
      "5/5 [==============================] - 0s 51ms/step - loss: -0.0179 - accuracy: 0.0112 - val_loss: 0.0062 - val_accuracy: 0.0435\n",
      "Epoch 10/50\n",
      "5/5 [==============================] - 0s 51ms/step - loss: -0.1061 - accuracy: 0.0112 - val_loss: -0.0699 - val_accuracy: 0.0435\n",
      "Epoch 11/50\n",
      "5/5 [==============================] - 0s 51ms/step - loss: -0.1903 - accuracy: 0.0112 - val_loss: -0.1465 - val_accuracy: 0.0435\n",
      "Epoch 12/50\n",
      "5/5 [==============================] - 0s 51ms/step - loss: -0.2770 - accuracy: 0.0112 - val_loss: -0.2233 - val_accuracy: 0.0435\n",
      "Epoch 13/50\n",
      "5/5 [==============================] - 0s 52ms/step - loss: -0.3626 - accuracy: 0.0112 - val_loss: -0.3007 - val_accuracy: 0.0435\n",
      "Epoch 14/50\n",
      "5/5 [==============================] - 0s 52ms/step - loss: -0.4494 - accuracy: 0.0112 - val_loss: -0.3781 - val_accuracy: 0.0435\n",
      "Epoch 15/50\n",
      "5/5 [==============================] - 0s 51ms/step - loss: -0.5341 - accuracy: 0.0112 - val_loss: -0.4553 - val_accuracy: 0.0435\n",
      "Epoch 16/50\n",
      "5/5 [==============================] - 0s 51ms/step - loss: -0.6204 - accuracy: 0.0112 - val_loss: -0.5312 - val_accuracy: 0.0435\n",
      "Epoch 17/50\n",
      "5/5 [==============================] - 0s 52ms/step - loss: -0.7057 - accuracy: 0.0112 - val_loss: -0.6075 - val_accuracy: 0.0435\n",
      "Epoch 18/50\n",
      "5/5 [==============================] - 0s 53ms/step - loss: -0.7925 - accuracy: 0.0112 - val_loss: -0.6841 - val_accuracy: 0.0435\n",
      "Epoch 19/50\n",
      "5/5 [==============================] - 0s 51ms/step - loss: -0.8769 - accuracy: 0.0112 - val_loss: -0.7617 - val_accuracy: 0.0435\n",
      "Epoch 20/50\n",
      "5/5 [==============================] - 0s 52ms/step - loss: -0.9631 - accuracy: 0.0112 - val_loss: -0.8386 - val_accuracy: 0.0435\n",
      "Epoch 21/50\n",
      "5/5 [==============================] - 0s 50ms/step - loss: -1.0494 - accuracy: 0.0112 - val_loss: -0.9144 - val_accuracy: 0.0435\n",
      "Epoch 22/50\n",
      "5/5 [==============================] - 0s 50ms/step - loss: -1.1343 - accuracy: 0.0112 - val_loss: -0.9905 - val_accuracy: 0.0435\n",
      "Epoch 23/50\n",
      "5/5 [==============================] - 0s 50ms/step - loss: -1.2198 - accuracy: 0.0112 - val_loss: -1.0665 - val_accuracy: 0.0435\n",
      "Epoch 24/50\n",
      "5/5 [==============================] - 0s 54ms/step - loss: -1.3033 - accuracy: 0.0112 - val_loss: -1.1431 - val_accuracy: 0.0435\n",
      "Epoch 25/50\n",
      "5/5 [==============================] - 0s 51ms/step - loss: -1.3896 - accuracy: 0.0112 - val_loss: -1.2196 - val_accuracy: 0.0435\n",
      "Epoch 26/50\n",
      "5/5 [==============================] - 0s 51ms/step - loss: -1.4753 - accuracy: 0.0112 - val_loss: -1.2962 - val_accuracy: 0.0435\n",
      "Epoch 27/50\n",
      "5/5 [==============================] - 0s 51ms/step - loss: -1.5620 - accuracy: 0.0112 - val_loss: -1.3723 - val_accuracy: 0.0435\n",
      "Epoch 28/50\n",
      "5/5 [==============================] - 0s 51ms/step - loss: -1.6459 - accuracy: 0.0112 - val_loss: -1.4490 - val_accuracy: 0.0435\n",
      "Epoch 29/50\n",
      "5/5 [==============================] - 0s 52ms/step - loss: -1.7320 - accuracy: 0.0112 - val_loss: -1.5249 - val_accuracy: 0.0435\n",
      "Epoch 30/50\n",
      "5/5 [==============================] - 0s 55ms/step - loss: -1.8183 - accuracy: 0.0112 - val_loss: -1.6002 - val_accuracy: 0.0435\n",
      "Epoch 31/50\n",
      "5/5 [==============================] - 0s 51ms/step - loss: -1.9020 - accuracy: 0.0112 - val_loss: -1.6772 - val_accuracy: 0.0435\n",
      "Epoch 32/50\n",
      "5/5 [==============================] - 0s 51ms/step - loss: -1.9867 - accuracy: 0.0112 - val_loss: -1.7540 - val_accuracy: 0.0435\n",
      "Epoch 33/50\n",
      "5/5 [==============================] - 0s 50ms/step - loss: -2.0736 - accuracy: 0.0112 - val_loss: -1.8302 - val_accuracy: 0.0435\n",
      "Epoch 34/50\n",
      "5/5 [==============================] - 0s 52ms/step - loss: -2.1605 - accuracy: 0.0112 - val_loss: -1.9062 - val_accuracy: 0.0435\n",
      "Epoch 35/50\n",
      "5/5 [==============================] - 0s 50ms/step - loss: -2.2432 - accuracy: 0.0112 - val_loss: -1.9836 - val_accuracy: 0.0435\n",
      "Epoch 36/50\n",
      "5/5 [==============================] - 0s 51ms/step - loss: -2.3308 - accuracy: 0.0112 - val_loss: -2.0603 - val_accuracy: 0.0435\n",
      "Epoch 37/50\n",
      "5/5 [==============================] - 0s 50ms/step - loss: -2.4181 - accuracy: 0.0112 - val_loss: -2.1367 - val_accuracy: 0.0435\n",
      "Epoch 38/50\n",
      "5/5 [==============================] - 0s 52ms/step - loss: -2.5007 - accuracy: 0.0112 - val_loss: -2.2138 - val_accuracy: 0.0435\n",
      "Epoch 39/50\n",
      "5/5 [==============================] - 0s 52ms/step - loss: -2.5884 - accuracy: 0.0112 - val_loss: -2.2896 - val_accuracy: 0.0435\n",
      "Epoch 40/50\n",
      "5/5 [==============================] - 0s 52ms/step - loss: -2.6732 - accuracy: 0.0112 - val_loss: -2.3661 - val_accuracy: 0.0435\n",
      "Epoch 41/50\n",
      "5/5 [==============================] - 0s 52ms/step - loss: -2.7572 - accuracy: 0.0112 - val_loss: -2.4430 - val_accuracy: 0.0435\n",
      "Epoch 42/50\n",
      "5/5 [==============================] - 0s 55ms/step - loss: -2.8442 - accuracy: 0.0112 - val_loss: -2.5190 - val_accuracy: 0.0435\n",
      "Epoch 43/50\n",
      "5/5 [==============================] - 0s 52ms/step - loss: -2.9312 - accuracy: 0.0112 - val_loss: -2.5942 - val_accuracy: 0.0435\n",
      "Epoch 44/50\n",
      "5/5 [==============================] - 0s 52ms/step - loss: -3.0140 - accuracy: 0.0112 - val_loss: -2.6710 - val_accuracy: 0.0435\n",
      "Epoch 45/50\n",
      "5/5 [==============================] - 0s 50ms/step - loss: -3.0997 - accuracy: 0.0112 - val_loss: -2.7485 - val_accuracy: 0.0435\n",
      "Epoch 46/50\n",
      "5/5 [==============================] - 0s 47ms/step - loss: -3.1854 - accuracy: 0.0112 - val_loss: -2.8264 - val_accuracy: 0.0435\n",
      "Epoch 47/50\n",
      "5/5 [==============================] - 0s 51ms/step - loss: -3.2721 - accuracy: 0.0112 - val_loss: -2.9030 - val_accuracy: 0.0435\n",
      "Epoch 48/50\n",
      "5/5 [==============================] - 0s 51ms/step - loss: -3.3569 - accuracy: 0.0112 - val_loss: -2.9797 - val_accuracy: 0.0435\n",
      "Epoch 49/50\n",
      "5/5 [==============================] - 0s 49ms/step - loss: -3.4451 - accuracy: 0.0112 - val_loss: -3.0559 - val_accuracy: 0.0435\n",
      "Epoch 50/50\n",
      "5/5 [==============================] - 0s 51ms/step - loss: -3.5299 - accuracy: 0.0112 - val_loss: -3.1330 - val_accuracy: 0.0435\n",
      "1/1 [==============================] - 0s 34ms/step - loss: -3.6199 - accuracy: 0.0000e+00\n",
      "Test Accuracy: 0.0\n"
     ]
    }
   ],
   "source": [
    "from tensorflow.keras.layers import LSTM, Dense, Dropout\n",
    "\n",
    "model = Sequential()\n",
    "model.add(LSTM(512, input_shape=(1, 1536)))  # Increase LSTM units\n",
    "model.add(Dropout(0.5))  # Add dropout layer to prevent overfitting\n",
    "model.add(Dense(units=1, activation='ReLU'))  # Change activation function to ReLU\n",
    "model.add(Dropout(0.2))  # Add dropout layer to prevent overfitting\n",
    "model.add(Dense(units=1, activation='softmax'))  # Change activation function to ReLU\n",
    "\n",
    "model.compile(optimizer='adam', loss='binary_crossentropy', metrics=['accuracy'])\n",
    "\n",
    "# Train the model\n",
    "model.fit(X_train, y_train, epochs=50, batch_size=20, validation_split=0.2)\n",
    "\n",
    "# Evaluate the model\n",
    "\n",
    "#X_train convert numpy to tensor\n",
    "\n",
    "loss, accuracy = model.evaluate(X_test, y_test)\n",
    "print(\"Test Accuracy:\", accuracy)"
   ]
  },
  {
   "cell_type": "code",
   "execution_count": 57,
   "metadata": {},
   "outputs": [
    {
     "ename": "TypeError",
     "evalue": "'builtin_function_or_method' object cannot be interpreted as an integer",
     "output_type": "error",
     "traceback": [
      "\u001B[1;31m---------------------------------------------------------------------------\u001B[0m",
      "\u001B[1;31mTypeError\u001B[0m                                 Traceback (most recent call last)",
      "Cell \u001B[1;32mIn[57], line 54\u001B[0m\n\u001B[0;32m     51\u001B[0m outputs \u001B[38;5;241m=\u001B[39m model(inputs)\n\u001B[0;32m     52\u001B[0m \u001B[38;5;66;03m# Assuming your labels are in a pandas Series named 'y'\u001B[39;00m\n\u001B[0;32m     53\u001B[0m \u001B[38;5;66;03m#convert labels to tensor\u001B[39;00m\n\u001B[1;32m---> 54\u001B[0m labels_tensor \u001B[38;5;241m=\u001B[39m \u001B[43mtorch\u001B[49m\u001B[38;5;241;43m.\u001B[39;49m\u001B[43mtensor\u001B[49m\u001B[43m(\u001B[49m\u001B[43mlabels\u001B[49m\u001B[38;5;241;43m.\u001B[39;49m\u001B[43mvalues\u001B[49m\u001B[43m,\u001B[49m\u001B[43m \u001B[49m\u001B[43mdtype\u001B[49m\u001B[38;5;241;43m=\u001B[39;49m\u001B[43mtorch\u001B[49m\u001B[38;5;241;43m.\u001B[39;49m\u001B[43mlong\u001B[49m\u001B[43m)\u001B[49m  \u001B[38;5;66;03m# Convert Series to tensor\u001B[39;00m\n\u001B[0;32m     55\u001B[0m \u001B[38;5;28mprint\u001B[39m(labels_tensor\u001B[38;5;241m.\u001B[39mdtype)  \u001B[38;5;66;03m# Make sure the dtype is torch.long\u001B[39;00m\n\u001B[0;32m     56\u001B[0m loss \u001B[38;5;241m=\u001B[39m nn\u001B[38;5;241m.\u001B[39mCrossEntropyLoss()(outputs, labels)\n",
      "\u001B[1;31mTypeError\u001B[0m: 'builtin_function_or_method' object cannot be interpreted as an integer"
     ]
    }
   ],
   "source": []
  },
  {
   "cell_type": "code",
   "execution_count": null,
   "metadata": {},
   "outputs": [],
   "source": []
  }
 ],
 "metadata": {
  "kernelspec": {
   "display_name": "Python 3",
   "language": "python",
   "name": "python3"
  },
  "language_info": {
   "codemirror_mode": {
    "name": "ipython",
    "version": 3
   },
   "file_extension": ".py",
   "mimetype": "text/x-python",
   "name": "python",
   "nbconvert_exporter": "python",
   "pygments_lexer": "ipython3",
   "version": "3.11.4"
  }
 },
 "nbformat": 4,
 "nbformat_minor": 2
}
