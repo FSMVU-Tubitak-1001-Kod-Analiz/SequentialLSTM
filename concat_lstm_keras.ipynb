{
 "cells": [
  {
   "cell_type": "code",
   "execution_count": 1,
   "metadata": {},
   "outputs": [
    {
     "name": "stdout",
     "output_type": "stream",
     "text": [
      "WARNING:tensorflow:From C:\\Users\\huday\\AppData\\Roaming\\Python\\Python311\\site-packages\\keras\\src\\losses.py:2976: The name tf.losses.sparse_softmax_cross_entropy is deprecated. Please use tf.compat.v1.losses.sparse_softmax_cross_entropy instead.\n",
      "\n",
      "Downloading data from https://storage.googleapis.com/tensorflow/tf-keras-datasets/imdb.npz\n",
      "17464789/17464789 [==============================] - 6s 0us/step\n"
     ]
    }
   ],
   "source": [
    "import numpy as np\n",
    "import tensorflow as tf\n",
    "from tensorflow.keras.datasets import imdb\n",
    "from tensorflow.keras.preprocessing.sequence import pad_sequences\n",
    "from tensorflow.keras.models import Sequential, Model\n",
    "from tensorflow.keras.layers import Dense, Embedding, LSTM, Input, Concatenate\n",
    "\n",
    "# Load IMDb dataset\n",
    "vocab_size = 10000\n",
    "maxlen = 200\n",
    "(X_train, y_train), (X_test, y_test) = imdb.load_data(num_words=vocab_size)\n",
    "\n",
    "# Pad sequences to ensure uniform input length\n",
    "X_train = pad_sequences(X_train, maxlen=maxlen)\n",
    "X_test = pad_sequences(X_test, maxlen=maxlen)\n",
    "\n",
    "# Define the model architecture\n",
    "embedding_dim = 128\n",
    "lstm_units = 64"
   ]
  },
  {
   "cell_type": "code",
   "execution_count": null,
   "metadata": {},
   "outputs": [],
   "source": [
    "# Define input layers\n",
    "input1 = Input(shape=(maxlen,))\n",
    "input2 = Input(shape=(maxlen,))\n",
    "\n",
    "# Embedding layers\n",
    "embedding_layer = Embedding(vocab_size, embedding_dim, input_length=maxlen)\n",
    "embedded_seq1 = embedding_layer(input1)\n",
    "embedded_seq2 = embedding_layer(input2)\n",
    "\n",
    "# LSTM layers\n",
    "lstm_layer = LSTM(lstm_units)\n",
    "lstm_output1 = lstm_layer(embedded_seq1)\n",
    "lstm_output2 = lstm_layer(embedded_seq2)\n",
    "\n",
    "# Concatenate the outputs of the two LSTMs\n",
    "concatenated = Concatenate()([lstm_output1, lstm_output2])\n",
    "\n",
    "# Dense layer\n",
    "output = Dense(1, activation='sigmoid')(concatenated)\n",
    "\n",
    "# Define the model\n",
    "model = Model(inputs=[input1, input2], outputs=output)\n",
    "model.compile(optimizer='adam', loss='binary_crossentropy', metrics=['accuracy'])\n",
    "\n",
    "# Train the model\n",
    "model.fit([X_train, X_train], y_train, batch_size=64, epochs=3, validation_split=0.2)\n",
    "\n",
    "# Evaluate the model\n",
    "loss, accuracy = model.evaluate([X_test, X_test], y_test)\n",
    "print(\"Test Accuracy:\", accuracy)\n"
   ]
  }
 ],
 "metadata": {
  "kernelspec": {
   "display_name": "Python 3",
   "language": "python",
   "name": "python3"
  },
  "language_info": {
   "codemirror_mode": {
    "name": "ipython",
    "version": 3
   },
   "file_extension": ".py",
   "mimetype": "text/x-python",
   "name": "python",
   "nbconvert_exporter": "python",
   "pygments_lexer": "ipython3",
   "version": "3.11.4"
  }
 },
 "nbformat": 4,
 "nbformat_minor": 2
}
